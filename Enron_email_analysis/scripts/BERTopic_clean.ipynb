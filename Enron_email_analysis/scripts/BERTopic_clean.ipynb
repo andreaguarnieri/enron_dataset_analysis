{
 "cells": [
  {
   "cell_type": "markdown",
   "metadata": {
    "id": "Z6_Z_LfzSTvG"
   },
   "source": [
    "## Importing Libraries and Dataset"
   ]
  },
  {
   "cell_type": "code",
   "execution_count": null,
   "metadata": {
    "colab": {
     "base_uri": "https://localhost:8080/",
     "height": 1000
    },
    "executionInfo": {
     "elapsed": 95696,
     "status": "ok",
     "timestamp": 1750081031614,
     "user": {
      "displayName": "Giada Poloni",
      "userId": "05088726081194754954"
     },
     "user_tz": -120
    },
    "id": "_UDaA3X_39aX",
    "outputId": "1622613d-cecb-4575-c7ef-29946b0aa787"
   },
   "outputs": [],
   "source": [
    "!pip install bertopic\n",
    "!pip install sentence-transformers\n",
    "!pip install gensim"
   ]
  },
  {
   "cell_type": "code",
   "execution_count": null,
   "metadata": {
    "id": "r7r-0ZC6wDsZ"
   },
   "outputs": [],
   "source": [
    "import pandas as pd\n",
    "import numpy as np\n",
    "import os\n",
    "import random\n",
    "import re\n",
    "import matplotlib.pyplot as plt\n",
    "import seaborn as sns\n",
    "import csv\n",
    "import sys\n",
    "import torch\n",
    "import spacy\n",
    "import pickle\n",
    "from sentence_transformers import SentenceTransformer\n",
    "from bertopic import BERTopic\n",
    "from google.colab import drive\n",
    "from bertopic.representation import KeyBERTInspired, MaximalMarginalRelevance\n",
    "from sklearn.feature_extraction.text import CountVectorizer\n",
    "from collections import Counter\n",
    "from sklearn.metrics.pairwise import cosine_similarity\n",
    "from sklearn.cluster import KMeans\n",
    "from gensim.corpora import Dictionary\n",
    "from gensim.models import CoherenceModel\n",
    "from sklearn.decomposition import PCA\n",
    "import umap\n",
    "from sklearn.preprocessing import normalize\n",
    "from scipy.sparse import vstack"
   ]
  },
  {
   "cell_type": "code",
   "execution_count": null,
   "metadata": {
    "colab": {
     "base_uri": "https://localhost:8080/"
    },
    "executionInfo": {
     "elapsed": 31983,
     "status": "ok",
     "timestamp": 1750084010056,
     "user": {
      "displayName": "Giada Poloni",
      "userId": "05088726081194754954"
     },
     "user_tz": -120
    },
    "id": "8aju9WiwwJY7",
    "outputId": "7a10b6d6-c619-4b15-8beb-f2bc36257354"
   },
   "outputs": [],
   "source": [
    "drive.mount('/content/drive')\n",
    "file_path = '/content/drive/MyDrive/NLP_Project/data.csv'\n",
    "csv.field_size_limit(sys.maxsize)\n",
    "df = pd.read_csv(file_path, sep = '§')"
   ]
  },
  {
   "cell_type": "code",
   "execution_count": null,
   "metadata": {
    "id": "iZ3jZtXXGrDs"
   },
   "outputs": [],
   "source": [
    "SEED = 1\n",
    "os.environ[\"PYTHONHASHSEED\"] = str(SEED)\n",
    "random.seed(SEED)\n",
    "np.random.seed(SEED)\n",
    "torch.manual_seed(SEED)\n",
    "if torch.cuda.is_available():\n",
    "    torch.cuda.manual_seed(SEED)\n",
    "    torch.cuda.manual_seed_all(SEED)\n",
    "    torch.backends.cudnn.deterministic = True\n",
    "    torch.backends.cudnn.benchmark = False"
   ]
  },
  {
   "cell_type": "code",
   "execution_count": null,
   "metadata": {
    "id": "Tbf6cCZ2r421"
   },
   "outputs": [],
   "source": [
    "def set_global_seed(seed):\n",
    "    random.seed(seed)\n",
    "    np.random.seed(seed)\n",
    "    torch.manual_seed(seed)\n",
    "    if torch.cuda.is_available():\n",
    "        torch.cuda.manual_seed_all(seed)"
   ]
  },
  {
   "cell_type": "markdown",
   "metadata": {
    "id": "Hk3nSd7UxWWG"
   },
   "source": [
    "#Embeddings for each level"
   ]
  },
  {
   "cell_type": "code",
   "execution_count": null,
   "metadata": {
    "id": "qtQ1RfDk_HIr"
   },
   "outputs": [],
   "source": [
    "df_low = df.loc[df['Level'] == 'Low']\n",
    "df_medium = df.loc[df['Level'] == 'Medium']\n",
    "df_high = df.loc[df['Level'] == 'High']"
   ]
  },
  {
   "cell_type": "code",
   "execution_count": null,
   "metadata": {
    "colab": {
     "base_uri": "https://localhost:8080/"
    },
    "executionInfo": {
     "elapsed": 18,
     "status": "ok",
     "timestamp": 1750083421886,
     "user": {
      "displayName": "Giada Poloni",
      "userId": "05088726081194754954"
     },
     "user_tz": -120
    },
    "id": "aQOfTHjLEZ3J",
    "outputId": "391c9c1b-99fc-48b7-fdd2-14da97878212"
   },
   "outputs": [],
   "source": [
    "print(f'Number of Low level documents: {len(df_low)}')\n",
    "print(f'Number of Medium level documents: {len(df_medium)}')\n",
    "print(f'Number of High level documents: {len(df_high)}')"
   ]
  },
  {
   "cell_type": "code",
   "execution_count": null,
   "metadata": {
    "id": "0QTDb3pJU8Dw"
   },
   "outputs": [],
   "source": [
    "model = SentenceTransformer(\"BAAI/llm-embedder\", device=\"cuda\" if torch.cuda.is_available() else \"cpu\")\n",
    "model.eval()\n",
    "\n",
    "def generate_embeddings(texts, batch_size=64, normalize=True):\n",
    "    with torch.no_grad():\n",
    "        emb = model.encode(\n",
    "            texts,\n",
    "            batch_size=batch_size,\n",
    "            show_progress_bar=True,\n",
    "            convert_to_numpy=True,\n",
    "            normalize_embeddings=False\n",
    "        )\n",
    "    if normalize:\n",
    "        emb = emb / np.linalg.norm(emb, axis=1, keepdims=True)\n",
    "    return emb"
   ]
  },
  {
   "cell_type": "code",
   "execution_count": null,
   "metadata": {
    "id": "784jNj6Y7X-l"
   },
   "outputs": [],
   "source": [
    "texts_low = df_low['Cleaned_Body_n'].dropna().astype(str).tolist()\n",
    "texts_medium = df_medium['Cleaned_Body_n'].dropna().astype(str).tolist()\n",
    "texts_high = df_high['Cleaned_Body_n'].dropna().astype(str).tolist()"
   ]
  },
  {
   "cell_type": "code",
   "execution_count": null,
   "metadata": {
    "colab": {
     "base_uri": "https://localhost:8080/",
     "height": 113,
     "referenced_widgets": [
      "027e1b45ad5e4019822bd48645ecb042",
      "80dfb373c6794b299f703e18377b823c",
      "6f1b45de0ab14951938151f998e2d8a2",
      "4c5487a9033540058b2936489ff4a7e4",
      "32692252a95c440cb5f4bfca37868c2f",
      "2aea4dfda4c24c10bc198c4024bac4c6",
      "f961c32239bb49ea8cc25fed959f6bab",
      "d4b6e0298eec4e15a49fafb64fbf1071",
      "0bdd2f59623d4082afb2116a262363df",
      "dc1a19efb5d7474a8a9469e8f6bdb6d1",
      "efcf28c4d5f24f098b90a232963f0854",
      "ba9bb0e7c9a64e39a547e120c115c0aa",
      "ee3ddca4e6c34922ae3340a7f3d52d4d",
      "bc1e645697804fe4bfeec8f6ae25e33d",
      "3bd5d0297a744288bf7f4893bdfaab2a",
      "6ab01b89c0fc4896961a1643b2cb1430",
      "2fb253d326ed4ff88950dbfdeace7feb",
      "f72da6614ff34c98b842469ddb52cbff",
      "6593c0f71224462dbbe31d6b1d9c74b9",
      "4efe9417b27e432291f94dc59fab1386",
      "1dff7baefe044ef9a1e7ee082ef2c9e5",
      "e1712349fe494f1c8d7b4d8eedf9fb0e",
      "3dc93df454af4cec9100c2ac8ac22e7e",
      "c2a6addb11cd4cda9b1ced0910796012",
      "3b1b339373f44f9a922746cb2467acfd",
      "47a52baa363340d9a89e34551d671c97",
      "a9a7dabcb1bb482ba63620b6f4506de3",
      "2257a27d0abe47aba706a1faf79bfc21",
      "1c149025f3ba4fd8a8bb4d25665e0fca",
      "16ea6cb9d36b4e95908db6d654923cd0",
      "bc4a1d8a97d0484caba16a41932e555a",
      "30edc39cc7a44bf5875dd7045513026e",
      "94b67c978d3240ab97ec8d0edeecd49b"
     ]
    },
    "executionInfo": {
     "elapsed": 480143,
     "status": "ok",
     "timestamp": 1750081684676,
     "user": {
      "displayName": "Giada Poloni",
      "userId": "05088726081194754954"
     },
     "user_tz": -120
    },
    "id": "2mvqZa8qHTQD",
    "outputId": "1c45b4b3-17c6-47d5-bd54-5aa8c8ab1d16"
   },
   "outputs": [],
   "source": [
    "embeddings_low = generate_embeddings(texts_low)\n",
    "embeddings_medium = generate_embeddings(texts_medium)\n",
    "embeddings_high = generate_embeddings(texts_high)"
   ]
  },
  {
   "cell_type": "code",
   "execution_count": null,
   "metadata": {
    "colab": {
     "base_uri": "https://localhost:8080/",
     "height": 98,
     "referenced_widgets": [
      "a4d93cc72e184ba99aafa603fae0e3fd",
      "072d71dd0a0c44c78126169571242234",
      "b792ac7b1ecb47f480a392deb001c6f9",
      "547fb7766588413ca57f0416a972b0d9",
      "cd76642f34ba4a5a8929e5d4f9eaf4f9",
      "1dc8f610150b46da89d21d3605112667",
      "91efe1fc288a4a1b98d2681f818da371",
      "898153408661401992242d88a820b537",
      "9423758177a946b3a02f7a9474565de1",
      "169ba110b20d4af3a2af97b7ee5295b3",
      "5fcd9ad63713497687d64447d9453efe",
      "0d3564e206d343f7b26a26201e36936c",
      "e9934397f1374ce3ad202cdc172b56bc",
      "bc131680a5184a42bbe8d50e9e2c810b",
      "7df4c726bbbe4b1894cf7347fc17466f",
      "7dcfa662e4674e02aac8bd59663ed70a",
      "bc0caadf96e443ba9feffbc5041b8375",
      "708baa8e8f29420cad3e9c6b3419386b",
      "7beae78ad34d401b830593d6d1e95dc3",
      "7ea632e18378401e99b8e4d9d5870f38",
      "8822059230904a6e86b0ee6acebfcc50",
      "2840f7f5a34048ddb1f4cbb683c00d8d"
     ]
    },
    "executionInfo": {
     "elapsed": 5038,
     "status": "ok",
     "timestamp": 1750081729898,
     "user": {
      "displayName": "Giada Poloni",
      "userId": "05088726081194754954"
     },
     "user_tz": -120
    },
    "id": "NdsyzUNjVC2H",
    "outputId": "c8bb2a06-9e44-4ebb-ca80-e85698f428c0"
   },
   "outputs": [],
   "source": [
    "# Check for identical embeddings\n",
    "embeddings_test1 = generate_embeddings(texts_low[:1000])\n",
    "embeddings_test2 = generate_embeddings(texts_low[:1000])\n",
    "\n",
    "print(\"Identical Embeddings:\", np.allclose(embeddings_test1, embeddings_test2, atol=1e-8))"
   ]
  },
  {
   "cell_type": "markdown",
   "metadata": {
    "id": "6qMv__TbXdHJ"
   },
   "source": [
    "#Grid search for the optimal number of topics"
   ]
  },
  {
   "cell_type": "code",
   "execution_count": null,
   "metadata": {
    "id": "DboPJZy7sWcD"
   },
   "outputs": [],
   "source": [
    "with open(\"/content/drive/MyDrive/NLP_Project/vectorizer_low.pkl\", \"rb\") as f:\n",
    "    vectorizer_fixed = pickle.load(f)"
   ]
  },
  {
   "cell_type": "code",
   "execution_count": null,
   "metadata": {
    "id": "WG3GaaM--1BN"
   },
   "outputs": [],
   "source": [
    "def evaluate_bertopic_cv(texts, embeddings, cluster_values=[8, 10, 12, 15], seed=1):\n",
    "    results = []\n",
    "\n",
    "    # Tokenize once outside the loop (simple whitespace split)\n",
    "    tokenized_docs = [doc.lower().split() for doc in texts]\n",
    "    dictionary = Dictionary(tokenized_docs)\n",
    "    corpus = [dictionary.doc2bow(text) for text in tokenized_docs]\n",
    "\n",
    "    for n_clusters in cluster_values:\n",
    "        print(f\"Evaluating model with {n_clusters} clusters...\")\n",
    "\n",
    "        # Set global seed\n",
    "        set_global_seed(seed)\n",
    "\n",
    "        # New PCA for each model\n",
    "        pca = PCA(n_components=embeddings.shape[1], random_state=seed)\n",
    "\n",
    "        # Set up vectorizer and clustering\n",
    "        vectorizer = vectorizer_fixed\n",
    "        kmeans = KMeans(n_clusters=n_clusters, random_state=seed)\n",
    "\n",
    "        # Build BERTopic model\n",
    "        topic_model = BERTopic(\n",
    "            umap_model=pca,\n",
    "            hdbscan_model=kmeans,\n",
    "            vectorizer_model=vectorizer,\n",
    "            calculate_probabilities=False,\n",
    "            verbose=False\n",
    "        )\n",
    "\n",
    "        # Fit the model\n",
    "        topics, _ = topic_model.fit_transform(texts, embeddings)\n",
    "\n",
    "        # Extract top 10 words per topic\n",
    "        topics_dict = topic_model.get_topics()\n",
    "        topic_words = [\n",
    "            [word for word, _ in topics_dict[i][:10]]\n",
    "            for i in sorted(topics_dict)\n",
    "        ]\n",
    "\n",
    "        # Compute c_v coherence\n",
    "        coherence_model = CoherenceModel(\n",
    "            topics=topic_words,\n",
    "            texts=tokenized_docs,\n",
    "            dictionary=dictionary,\n",
    "            coherence=\"c_v\"\n",
    "        )\n",
    "        coherence = coherence_model.get_coherence()\n",
    "\n",
    "        results.append({\n",
    "            \"n_clusters\": n_clusters,\n",
    "            \"c_v\": coherence,\n",
    "            \"n_topics_found\": len(topic_words)\n",
    "        })\n",
    "\n",
    "    return pd.DataFrame(results).sort_values(\"c_v\", ascending=False).reset_index(drop=True)"
   ]
  },
  {
   "cell_type": "code",
   "execution_count": null,
   "metadata": {
    "colab": {
     "base_uri": "https://localhost:8080/"
    },
    "executionInfo": {
     "elapsed": 755454,
     "status": "ok",
     "timestamp": 1750072493836,
     "user": {
      "displayName": "Tancredi Liani",
      "userId": "17507422101623936540"
     },
     "user_tz": -120
    },
    "id": "1bP-QqVJNVh1",
    "outputId": "fdb8b367-82ac-40fc-decf-2117a678def9"
   },
   "outputs": [],
   "source": [
    "set_global_seed(1)\n",
    "results_low = evaluate_bertopic_cv(texts_low, embeddings_low)\n",
    "print(results_low)"
   ]
  },
  {
   "cell_type": "code",
   "execution_count": null,
   "metadata": {
    "colab": {
     "base_uri": "https://localhost:8080/"
    },
    "executionInfo": {
     "elapsed": 68429,
     "status": "ok",
     "timestamp": 1750020041447,
     "user": {
      "displayName": "Désirée Bengalli",
      "userId": "12750890952968783395"
     },
     "user_tz": -120
    },
    "id": "8_fKLar6Oiou",
    "outputId": "091cc39b-4fd2-45c2-b19d-a1a2dd89cc26"
   },
   "outputs": [],
   "source": [
    "set_global_seed(1)\n",
    "results_medium = evaluate_bertopic_cv(texts_medium, embeddings_medium)\n",
    "print(results_medium)"
   ]
  },
  {
   "cell_type": "code",
   "execution_count": null,
   "metadata": {
    "colab": {
     "base_uri": "https://localhost:8080/"
    },
    "executionInfo": {
     "elapsed": 26621,
     "status": "ok",
     "timestamp": 1750020068067,
     "user": {
      "displayName": "Désirée Bengalli",
      "userId": "12750890952968783395"
     },
     "user_tz": -120
    },
    "id": "FvPy2RL8Om4o",
    "outputId": "b6c541a4-11ac-4640-84f3-2d7640848976"
   },
   "outputs": [],
   "source": [
    "set_global_seed(1)\n",
    "results_high = evaluate_bertopic_cv(texts_high, embeddings_high)\n",
    "print(results_high)"
   ]
  },
  {
   "cell_type": "markdown",
   "metadata": {
    "id": "2H0l3z4lcqd-"
   },
   "source": [
    "#BERTopic"
   ]
  },
  {
   "cell_type": "code",
   "execution_count": null,
   "metadata": {
    "id": "iOmeMHsqqq8w"
   },
   "outputs": [],
   "source": [
    "def build_bertopic_model(texts, embeddings, n_clusters=10, seed=1):\n",
    "    set_global_seed(seed)\n",
    "\n",
    "    # 1 Vectorizer\n",
    "    vectorizer = vectorizer_fixed\n",
    "\n",
    "    # 2 PCA\n",
    "    pca = PCA(n_components=embeddings.shape[1], random_state=seed)\n",
    "\n",
    "    # 3 KMeans clustering\n",
    "    kmeans = KMeans(n_clusters=n_clusters, random_state=seed)\n",
    "\n",
    "    # 4 BERTopic\n",
    "    topic_model = BERTopic(\n",
    "        umap_model=pca,\n",
    "        hdbscan_model=kmeans,\n",
    "        vectorizer_model=vectorizer,\n",
    "        calculate_probabilities=False,\n",
    "        verbose=False\n",
    "    )\n",
    "\n",
    "    # 5 Fit\n",
    "    topics, _ = topic_model.fit_transform(texts, embeddings)\n",
    "    return topic_model, topics"
   ]
  },
  {
   "cell_type": "code",
   "execution_count": null,
   "metadata": {
    "id": "XLVSS0W6ctxl"
   },
   "outputs": [],
   "source": [
    "set_global_seed(1)\n",
    "model_1, topics_1 = build_bertopic_model(texts_low, embeddings_low, n_clusters=10, seed=1)\n",
    "set_global_seed(1)\n",
    "model_2, topics_2 = build_bertopic_model(texts_low, embeddings_low, n_clusters=10, seed=1)"
   ]
  },
  {
   "cell_type": "code",
   "execution_count": null,
   "metadata": {
    "colab": {
     "base_uri": "https://localhost:8080/"
    },
    "executionInfo": {
     "elapsed": 40,
     "status": "ok",
     "timestamp": 1750081799835,
     "user": {
      "displayName": "Giada Poloni",
      "userId": "05088726081194754954"
     },
     "user_tz": -120
    },
    "id": "9KaPlwUQdNWX",
    "outputId": "431c415f-949c-4a90-8696-53be611f9ed4"
   },
   "outputs": [],
   "source": [
    "np.array_equal(topics_1, topics_2)"
   ]
  },
  {
   "cell_type": "markdown",
   "metadata": {
    "id": "EvynQl4FeQON"
   },
   "source": [
    "###Low Level"
   ]
  },
  {
   "cell_type": "code",
   "execution_count": null,
   "metadata": {
    "id": "Cm5cxpA5eUiO"
   },
   "outputs": [],
   "source": [
    "set_global_seed(1)\n",
    "topic_model_low, topics_low = build_bertopic_model(texts_low, embeddings_low, n_clusters=15)\n",
    "df_topics_low = topic_model_low.get_topic_info()"
   ]
  },
  {
   "cell_type": "code",
   "execution_count": null,
   "metadata": {
    "colab": {
     "base_uri": "https://localhost:8080/"
    },
    "executionInfo": {
     "elapsed": 25,
     "status": "ok",
     "timestamp": 1750081825495,
     "user": {
      "displayName": "Giada Poloni",
      "userId": "05088726081194754954"
     },
     "user_tz": -120
    },
    "id": "ET17zGfBLobz",
    "outputId": "36502e34-fbda-4ed1-bcde-7032483c424c"
   },
   "outputs": [],
   "source": [
    "# Keywords extraction\n",
    "n_words = 10\n",
    "\n",
    "# retrieve topics\n",
    "for topic_id in topic_model_low.get_topics().keys():\n",
    "    print(f\"Topic {topic_id}:\")\n",
    "    words = topic_model_low.get_topic(topic_id)[:n_words]\n",
    "    print(\", \".join([word for word, _ in words]))\n",
    "    print(\"-\" * 80)"
   ]
  },
  {
   "cell_type": "code",
   "execution_count": null,
   "metadata": {
    "colab": {
     "base_uri": "https://localhost:8080/",
     "height": 519
    },
    "executionInfo": {
     "elapsed": 102,
     "status": "ok",
     "timestamp": 1750081830920,
     "user": {
      "displayName": "Giada Poloni",
      "userId": "05088726081194754954"
     },
     "user_tz": -120
    },
    "id": "7mQvRkDFMEhQ",
    "outputId": "93362528-73fe-4619-faf2-cafbbdf963d0"
   },
   "outputs": [],
   "source": [
    "# Labels for each topic\n",
    "topic_labels = {\n",
    "    0:  \"Contract Drafting & Credit Agreements\",\n",
    "    1:  \"Email Filing & Internal Correspondence\",\n",
    "    2:  \"Personal Availability & Informal Updates\",\n",
    "    3:  \"Document Revisions & Web Uploads\",\n",
    "    4:  \"Decision Rationales & Uncertainty\",\n",
    "    5:  \"Energy Brokerage Deals & Transactions\",\n",
    "    6:  \"Absences & Schedule Adjustments\",\n",
    "    7:  \"Energy Market & State Regulation (California Crisis)\",\n",
    "    8:  \"ISDA Contracts & Legal Execution\",\n",
    "    9:  \"Status Confirmations & Internal Feedback\",\n",
    "    10: \"Enron Financials, Stock Market & Investor Focus\",\n",
    "    11: \"System Failures & Load Forecasting Logs\",\n",
    "    12: \"Meeting Coordination & Internal Planning\",\n",
    "    13: \"Energy Variance Reporting\",\n",
    "    14: \"Transmission Reports & Operational Anomalies\"\n",
    "}\n",
    "\n",
    "# Compute Cosine Similarity within each topic\n",
    "def compute_cosine_coherence(topic_model):\n",
    "    all_topic_ids = sorted(topic_model.get_topics().keys())\n",
    "    ctfidf = topic_model.c_tf_idf_\n",
    "    topic_words_matrix = ctfidf.toarray()\n",
    "\n",
    "    coherence_scores = {}\n",
    "    for topic_id in all_topic_ids:\n",
    "        words = topic_model.get_topic(topic_id)\n",
    "        word_indices = [topic_model.vectorizer_model.vocabulary_.get(word[0])\n",
    "                        for word in words if word[0] in topic_model.vectorizer_model.vocabulary_]\n",
    "\n",
    "        if len(word_indices) < 2:\n",
    "            coherence_scores[topic_id] = 0.0\n",
    "            continue\n",
    "\n",
    "        word_vectors = topic_words_matrix[:, word_indices].T\n",
    "        similarity_matrix = cosine_similarity(word_vectors)\n",
    "        upper_triangle = similarity_matrix[np.triu_indices_from(similarity_matrix, k=1)]\n",
    "        avg_similarity = np.mean(upper_triangle) if upper_triangle.size > 0 else 0.0\n",
    "        coherence_scores[topic_id] = avg_similarity\n",
    "\n",
    "    return coherence_scores\n",
    "\n",
    "# Compute coherence and assign lables\n",
    "coherence_scores = compute_cosine_coherence(topic_model_low)\n",
    "df_topics_low[\"Coherence\"] = df_topics_low.Topic.apply(lambda x: coherence_scores.get(x, 0.0))\n",
    "df_topics_low[\"Label\"] = df_topics_low[\"Topic\"].map(topic_labels)\n",
    "\n",
    "df_final = df_topics_low.sort_values(\"Coherence\", ascending=False).reset_index(drop=True)\n",
    "pd.set_option(\"display.max_colwidth\", None)\n",
    "display(df_final[[\"Topic\", \"Label\", \"Count\", \"Coherence\"]])"
   ]
  },
  {
   "cell_type": "code",
   "execution_count": null,
   "metadata": {
    "id": "Fub4uMvlYGNy"
   },
   "outputs": [],
   "source": [
    "# Plotting topic evolution over time\n",
    "texts_low = df_low[\"Cleaned_Body_n\"].dropna().astype(str).tolist()\n",
    "timestamps_low = df_low.loc[df_low[\"Cleaned_Body_n\"].notna(), \"Date\"]\n",
    "timestamps_low = pd.to_datetime(timestamps_low, errors='coerce').tolist()"
   ]
  },
  {
   "cell_type": "code",
   "execution_count": null,
   "metadata": {
    "colab": {
     "base_uri": "https://localhost:8080/",
     "height": 467
    },
    "executionInfo": {
     "elapsed": 15205,
     "status": "ok",
     "timestamp": 1750081850857,
     "user": {
      "displayName": "Giada Poloni",
      "userId": "05088726081194754954"
     },
     "user_tz": -120
    },
    "id": "sD_-LuItYWR6",
    "outputId": "5d0f1e96-e15e-4c92-da8d-8b3d08f17eab"
   },
   "outputs": [],
   "source": [
    "# Compute topic evolution over time\n",
    "topics_over_time_low = topic_model_low.topics_over_time(\n",
    "    docs=texts_low,\n",
    "    topics=topics_low,\n",
    "    timestamps=timestamps_low,\n",
    "    nr_bins=80\n",
    ")\n",
    "\n",
    "# Use labels (già definite nel dizionario topic_labels)\n",
    "labels_ordered = [topic_labels[i] for i in sorted(topic_labels.keys())]\n",
    "topic_model_low.set_topic_labels(labels_ordered)\n",
    "\n",
    "# Plot only the most relevant topics\n",
    "selected_topics = [13, 8, 11, 10, 5, 7]\n",
    "topics_over_time_filtered = topics_over_time_low[topics_over_time_low.Topic.isin(selected_topics)]\n",
    "\n",
    "topic_model_low.visualize_topics_over_time(\n",
    "    topics_over_time_filtered,\n",
    "    custom_labels=True\n",
    ").show()"
   ]
  },
  {
   "cell_type": "markdown",
   "metadata": {
    "id": "yHbCkQGRxuDr"
   },
   "source": [
    "###Medium Level"
   ]
  },
  {
   "cell_type": "code",
   "execution_count": null,
   "metadata": {
    "id": "Q36NytCzeYIK"
   },
   "outputs": [],
   "source": [
    "set_global_seed(1)\n",
    "topic_model_medium, topics_medium = build_bertopic_model(texts_medium, embeddings_medium, n_clusters=8)\n",
    "df_topics_medium = topic_model_medium.get_topic_info()"
   ]
  },
  {
   "cell_type": "code",
   "execution_count": null,
   "metadata": {
    "colab": {
     "base_uri": "https://localhost:8080/"
    },
    "executionInfo": {
     "elapsed": 24,
     "status": "ok",
     "timestamp": 1750081869151,
     "user": {
      "displayName": "Giada Poloni",
      "userId": "05088726081194754954"
     },
     "user_tz": -120
    },
    "id": "FldYGnY3NdW3",
    "outputId": "38078f94-ea5d-485b-fd89-c2ef77096cba"
   },
   "outputs": [],
   "source": [
    "# Keywords extraction\n",
    "n_words = 10\n",
    "\n",
    "# retrieve topics\n",
    "for topic_id in topic_model_medium.get_topics().keys():\n",
    "    print(f\"Topic {topic_id}:\")\n",
    "    words = topic_model_medium.get_topic(topic_id)[:n_words]\n",
    "    print(\", \".join([word for word, _ in words]))\n",
    "    print(\"-\" * 80)"
   ]
  },
  {
   "cell_type": "code",
   "execution_count": null,
   "metadata": {
    "colab": {
     "base_uri": "https://localhost:8080/",
     "height": 300
    },
    "executionInfo": {
     "elapsed": 60,
     "status": "ok",
     "timestamp": 1750081871803,
     "user": {
      "displayName": "Giada Poloni",
      "userId": "05088726081194754954"
     },
     "user_tz": -120
    },
    "id": "CgM-XE_fOEo-",
    "outputId": "fe3c8409-41c3-4aee-e83b-e9ab8d70285a"
   },
   "outputs": [],
   "source": [
    "# Labels for each topic\n",
    "topic_labels = {\n",
    "    0: \"Executive Departures & Internal Uncertainty\",\n",
    "    1: \"Committee Records & Administrative Filing\",\n",
    "    2: \"Legal Agreements & Credit Guaranty Structures\",\n",
    "    3: \"Casual Chats & Informal Humor Threads\",\n",
    "    4: \"Electricity Market & California Utility Crisis\",\n",
    "    5: \"Enron Transactions & Counterparty Exposure\",\n",
    "    6: \"Employee Celebrations & Personal Messages\",\n",
    "    7: \"Unstructured Replies & Noisy Fragments\"\n",
    "}\n",
    "\n",
    "# Compute coherence and assign lables\n",
    "coherence_scores = compute_cosine_coherence(topic_model_low)\n",
    "df_topics_medium[\"Coherence\"] = df_topics_medium.Topic.apply(lambda x: coherence_scores.get(x, 0.0))\n",
    "df_topics_medium[\"Label\"] = df_topics_medium[\"Topic\"].map(topic_labels)\n",
    "\n",
    "df_final = df_topics_medium.sort_values(\"Coherence\", ascending=False).reset_index(drop=True)\n",
    "pd.set_option(\"display.max_colwidth\", None)\n",
    "display(df_final[[\"Topic\", \"Label\", \"Count\", \"Coherence\"]])"
   ]
  },
  {
   "cell_type": "code",
   "execution_count": null,
   "metadata": {
    "id": "PYGwTRnyXqIH"
   },
   "outputs": [],
   "source": [
    "# Plotting topic evolution over time\n",
    "texts_medium = df_medium[\"Cleaned_Body_n\"].dropna().astype(str).tolist()\n",
    "timestamps_medium = df_medium.loc[df_medium[\"Cleaned_Body_n\"].notna(), \"Date\"]\n",
    "timestamps_medium = pd.to_datetime(timestamps_medium, errors='coerce').tolist()"
   ]
  },
  {
   "cell_type": "code",
   "execution_count": null,
   "metadata": {
    "colab": {
     "base_uri": "https://localhost:8080/",
     "height": 467
    },
    "executionInfo": {
     "elapsed": 5677,
     "status": "ok",
     "timestamp": 1750081880173,
     "user": {
      "displayName": "Giada Poloni",
      "userId": "05088726081194754954"
     },
     "user_tz": -120
    },
    "id": "aLYFhOLLY52q",
    "outputId": "ec9b6f6d-9a37-4166-8aab-586a261074af"
   },
   "outputs": [],
   "source": [
    "# Compute topic evolution over time\n",
    "topics_over_time_medium = topic_model_medium.topics_over_time(\n",
    "    docs=texts_medium,\n",
    "    topics=topics_medium,\n",
    "    timestamps=timestamps_medium,\n",
    "    nr_bins=80\n",
    ")\n",
    "\n",
    "# Use lables\n",
    "labels_ordered = [topic_labels[i] for i in sorted(topic_labels.keys())]\n",
    "topic_model_medium.set_topic_labels(labels_ordered)\n",
    "\n",
    "# Plot only the most relevant topics\n",
    "selected_topics = [5, 2, 1, 4]\n",
    "topics_over_time_filtered = topics_over_time_medium[topics_over_time_medium.Topic.isin(selected_topics)]\n",
    "\n",
    "topic_model_medium.visualize_topics_over_time(\n",
    "    topics_over_time_filtered,\n",
    "    custom_labels=True\n",
    ").show()"
   ]
  },
  {
   "cell_type": "markdown",
   "metadata": {
    "id": "Ud8tM_ZOeZPQ"
   },
   "source": [
    "###High Level"
   ]
  },
  {
   "cell_type": "code",
   "execution_count": null,
   "metadata": {
    "id": "e9T52iOZeaTP"
   },
   "outputs": [],
   "source": [
    "set_global_seed(1)\n",
    "topic_model_high, topics_high = build_bertopic_model(texts_high, embeddings_high, n_clusters=12)\n",
    "df_topics_high = topic_model_high.get_topic_info()"
   ]
  },
  {
   "cell_type": "code",
   "execution_count": null,
   "metadata": {
    "colab": {
     "base_uri": "https://localhost:8080/"
    },
    "executionInfo": {
     "elapsed": 86,
     "status": "ok",
     "timestamp": 1750081887686,
     "user": {
      "displayName": "Giada Poloni",
      "userId": "05088726081194754954"
     },
     "user_tz": -120
    },
    "id": "k7vg_IiOQv6f",
    "outputId": "8e4a2621-0bf9-47ad-de29-7884b0ddfa5b"
   },
   "outputs": [],
   "source": [
    "# Keywords extraction\n",
    "n_words = 10\n",
    "\n",
    "# retrieve topics\n",
    "for topic_id in topic_model_high.get_topics().keys():\n",
    "    print(f\"Topic {topic_id}:\")\n",
    "    words = topic_model_high.get_topic(topic_id)[:n_words]\n",
    "    print(\", \".join([word for word, _ in words]))\n",
    "    print(\"-\" * 80)"
   ]
  },
  {
   "cell_type": "code",
   "execution_count": null,
   "metadata": {
    "colab": {
     "base_uri": "https://localhost:8080/",
     "height": 425
    },
    "executionInfo": {
     "elapsed": 228,
     "status": "ok",
     "timestamp": 1750081888267,
     "user": {
      "displayName": "Giada Poloni",
      "userId": "05088726081194754954"
     },
     "user_tz": -120
    },
    "id": "DS9sFBvCRRdb",
    "outputId": "b486053a-7fb0-4532-9d61-c59468736dc4"
   },
   "outputs": [],
   "source": [
    "# Labels for each topic\n",
    "topic_labels = {\n",
    "    0:  \"Executive Interview Coordination & Outreach\",\n",
    "    1:  \"Unstructured Scheduling Amid Executive Chaos\",\n",
    "    2:  \"Energy Market Instability & Gas Price Pressure\",\n",
    "    3:  \"Internal Distractions & Managerial Informalities\",\n",
    "    4:  \"Mobile Device Support Under Operational Stress\",\n",
    "    5:  \"Last-Minute Invitations & Scrambled Executive Panels\",\n",
    "    6:  \"Global Operations & Trading Exposure in Crisis Zones\",\n",
    "    7:  \"Document Routing & Pressure on Business Units\",\n",
    "    8:  \"Overcompensation & Performative Praise in Turmoil\",\n",
    "    9:  \"Regional Power Structures & Enron’s Executive Web\",\n",
    "    10: \"Task Overload, Firefighting & Reactive Management\",\n",
    "    11: \"High-Volume Print Requests & Communication Bottlenecks\"\n",
    "}\n",
    "\n",
    "# Compute coherence and assign lables\n",
    "coherence_scores = compute_cosine_coherence(topic_model_low)\n",
    "df_topics_high[\"Coherence\"] = df_topics_high.Topic.apply(lambda x: coherence_scores.get(x, 0.0))\n",
    "df_topics_high[\"Label\"] = df_topics_high[\"Topic\"].map(topic_labels)\n",
    "\n",
    "df_final = df_topics_high.sort_values(\"Coherence\", ascending=False).reset_index(drop=True)\n",
    "pd.set_option(\"display.max_colwidth\", None)\n",
    "display(df_final[[\"Topic\", \"Label\", \"Count\", \"Coherence\"]])"
   ]
  },
  {
   "cell_type": "code",
   "execution_count": null,
   "metadata": {
    "id": "OvbSvU6nXP6Q"
   },
   "outputs": [],
   "source": [
    "# Plotting topic evolution over time\n",
    "texts_high = df_high[\"Cleaned_Body_n\"].dropna().astype(str).tolist()\n",
    "timestamps_high = df_high.loc[df_high[\"Cleaned_Body_n\"].notna(), \"Date\"]\n",
    "timestamps_high = pd.to_datetime(timestamps_high, errors='coerce').tolist()"
   ]
  },
  {
   "cell_type": "code",
   "execution_count": null,
   "metadata": {
    "colab": {
     "base_uri": "https://localhost:8080/",
     "height": 467
    },
    "executionInfo": {
     "elapsed": 3031,
     "status": "ok",
     "timestamp": 1750081894353,
     "user": {
      "displayName": "Giada Poloni",
      "userId": "05088726081194754954"
     },
     "user_tz": -120
    },
    "id": "o2E6IukzXXfJ",
    "outputId": "eeffeb96-a954-402e-dce3-9b274534ac2c"
   },
   "outputs": [],
   "source": [
    "# Compute topic evolution over time\n",
    "topics_over_time_high = topic_model_high.topics_over_time(\n",
    "    docs=texts_high,\n",
    "    topics=topics_high,\n",
    "    timestamps=timestamps_high,\n",
    "    nr_bins=80\n",
    ")\n",
    "\n",
    "# Use lables\n",
    "labels_ordered = [topic_labels[i] for i in sorted(topic_labels.keys())]\n",
    "topic_model_high.set_topic_labels(labels_ordered)\n",
    "\n",
    "# Plot only the most relevant topics\n",
    "selected_topics = [2, 6, 10, 9, 0]\n",
    "topics_over_time_filtered = topics_over_time_high[topics_over_time_high.Topic.isin(selected_topics)]\n",
    "\n",
    "topic_model_high.visualize_topics_over_time(\n",
    "    topics_over_time_filtered,\n",
    "    custom_labels=True\n",
    ").show()"
   ]
  },
  {
   "cell_type": "markdown",
   "metadata": {
    "id": "5xFE9kdPbDrU"
   },
   "source": [
    "#Overlapping among topics"
   ]
  },
  {
   "cell_type": "code",
   "execution_count": null,
   "metadata": {
    "colab": {
     "base_uri": "https://localhost:8080/"
    },
    "executionInfo": {
     "elapsed": 22,
     "status": "ok",
     "timestamp": 1750081911148,
     "user": {
      "displayName": "Giada Poloni",
      "userId": "05088726081194754954"
     },
     "user_tz": -120
    },
    "id": "ZsMB2B8omcVw",
    "outputId": "71d15b37-68f7-4d3b-fa1f-16a8ee91eff4"
   },
   "outputs": [],
   "source": [
    "def compare_topics(model_a, model_b, top_n=10, cos_threshold=0.7, jacc_threshold=0.5):\n",
    "    vocab_a = model_a.vectorizer_model.get_feature_names_out()\n",
    "    vocab_b = model_b.vectorizer_model.get_feature_names_out()\n",
    "\n",
    "    common_vocab = list(set(vocab_a) & set(vocab_b))\n",
    "\n",
    "    idx_map_a = {word: i for i, word in enumerate(vocab_a)}\n",
    "    idx_map_b = {word: i for i, word in enumerate(vocab_b)}\n",
    "\n",
    "    common_idx_a = [idx_map_a[word] for word in common_vocab]\n",
    "    common_idx_b = [idx_map_b[word] for word in common_vocab]\n",
    "\n",
    "    ctfidf_a_common = model_a.c_tf_idf_[:, common_idx_a]\n",
    "    ctfidf_b_common = model_b.c_tf_idf_[:, common_idx_b]\n",
    "\n",
    "    topics_a = [t for t in model_a.get_topic_info().Topic.unique() if t >= 0]\n",
    "    topics_b = [t for t in model_b.get_topic_info().Topic.unique() if t >= 0]\n",
    "\n",
    "    cos_sim = cosine_similarity(ctfidf_a_common, ctfidf_b_common)\n",
    "\n",
    "    overlaps = []\n",
    "\n",
    "    for i, a_id in enumerate(topics_a):\n",
    "        for j, b_id in enumerate(topics_b):\n",
    "            cs = cos_sim[i, j]\n",
    "            if cs < cos_threshold:\n",
    "                continue\n",
    "\n",
    "            top_a = set(get_top_words(model_a, a_id, top_n))\n",
    "            top_b = set(get_top_words(model_b, b_id, top_n))\n",
    "            jacc = len(top_a & top_b) / len(top_a | top_b) if top_a | top_b else 0\n",
    "\n",
    "            if jacc >= jacc_threshold:\n",
    "                overlaps.append((a_id, b_id, cs, jacc))\n",
    "\n",
    "    return overlaps\n",
    "\n",
    "overlap_low_med = compare_topics(topic_model_low, topic_model_medium)\n",
    "print(\"Overlap Low vs Medium (c-TF-IDF):\", overlap_low_med)"
   ]
  },
  {
   "cell_type": "code",
   "execution_count": null,
   "metadata": {
    "id": "E__BVgw-bkpJ"
   },
   "outputs": [],
   "source": [
    "overlap_low_med = compare_topics(topic_model_low, topic_model_medium,\n",
    "                                 cos_threshold=0.5, jacc_threshold=0)\n",
    "overlap_med_high = compare_topics(topic_model_medium, topic_model_high,\n",
    "                                  cos_threshold=0.5, jacc_threshold=0)"
   ]
  },
  {
   "cell_type": "code",
   "execution_count": null,
   "metadata": {
    "colab": {
     "base_uri": "https://localhost:8080/"
    },
    "executionInfo": {
     "elapsed": 22,
     "status": "ok",
     "timestamp": 1750081913486,
     "user": {
      "displayName": "Giada Poloni",
      "userId": "05088726081194754954"
     },
     "user_tz": -120
    },
    "id": "l1k-xYhdbxZ1",
    "outputId": "76c5aa78-8a5e-40e0-e1f9-1125d192363f"
   },
   "outputs": [],
   "source": [
    "print(\"Overlap Low vs Medium:\", overlap_low_med)"
   ]
  },
  {
   "cell_type": "code",
   "execution_count": null,
   "metadata": {
    "colab": {
     "base_uri": "https://localhost:8080/"
    },
    "executionInfo": {
     "elapsed": 16,
     "status": "ok",
     "timestamp": 1750081914518,
     "user": {
      "displayName": "Giada Poloni",
      "userId": "05088726081194754954"
     },
     "user_tz": -120
    },
    "id": "gdWC5RznbxuR",
    "outputId": "ff420749-4b4b-4a87-9307-c45c80ad6b8d"
   },
   "outputs": [],
   "source": [
    "print(\"Overlap Medium vs High:\", overlap_med_high)"
   ]
  },
  {
   "cell_type": "code",
   "execution_count": null,
   "metadata": {
    "colab": {
     "base_uri": "https://localhost:8080/",
     "height": 545
    },
    "executionInfo": {
     "elapsed": 7328,
     "status": "ok",
     "timestamp": 1750081923509,
     "user": {
      "displayName": "Giada Poloni",
      "userId": "05088726081194754954"
     },
     "user_tz": -120
    },
    "id": "oEaG16_jtpdM",
    "outputId": "48184698-3de2-4f11-a160-17f9cdc5810c"
   },
   "outputs": [],
   "source": [
    "vocab_low = set(topic_model_low.vectorizer_model.get_feature_names_out())\n",
    "vocab_med = set(topic_model_medium.vectorizer_model.get_feature_names_out())\n",
    "vocab_high = set(topic_model_high.vectorizer_model.get_feature_names_out())\n",
    "\n",
    "common_vocab = sorted(list(vocab_low & vocab_med & vocab_high))\n",
    "\n",
    "# 2. c-TF-IDF\n",
    "def get_aligned_ctfidf(model, common_vocab):\n",
    "    vocab = model.vectorizer_model.get_feature_names_out()\n",
    "    idx_map = {word: i for i, word in enumerate(vocab)}\n",
    "    common_idx = [idx_map[word] for word in common_vocab if word in idx_map]\n",
    "    return model.c_tf_idf_[:, common_idx]\n",
    "\n",
    "ctfidf_low = get_aligned_ctfidf(topic_model_low, common_vocab)\n",
    "ctfidf_med = get_aligned_ctfidf(topic_model_medium, common_vocab)\n",
    "ctfidf_high = get_aligned_ctfidf(topic_model_high, common_vocab)\n",
    "\n",
    "# 3. Merge\n",
    "all_ctfidf = vstack([ctfidf_low, ctfidf_med, ctfidf_high])\n",
    "if hasattr(all_ctfidf, 'toarray'):\n",
    "    all_ctfidf = all_ctfidf.toarray()\n",
    "\n",
    "# 4. Metadata\n",
    "labels = (\n",
    "    [\"Low\"] * ctfidf_low.shape[0] +\n",
    "    [\"Medium\"] * ctfidf_med.shape[0] +\n",
    "    [\"High\"] * ctfidf_high.shape[0]\n",
    ")\n",
    "topic_ids = list(range(ctfidf_low.shape[0])) + \\\n",
    "            list(range(ctfidf_med.shape[0])) + \\\n",
    "            list(range(ctfidf_high.shape[0]))\n",
    "\n",
    "df_meta = pd.DataFrame({\"Level\": labels, \"TopicID\": topic_ids})\n",
    "\n",
    "# 5. UMAP\n",
    "reducer = umap.UMAP(n_neighbors=5, metric='cosine', random_state=42)\n",
    "embedding_2d = reducer.fit_transform(normalize(all_ctfidf))\n",
    "\n",
    "# 6. Plot\n",
    "plt.figure(figsize=(10, 6))\n",
    "for level in [\"Low\", \"Medium\", \"High\"]:\n",
    "    mask = df_meta[\"Level\"] == level\n",
    "    plt.scatter(\n",
    "        embedding_2d[mask, 0],\n",
    "        embedding_2d[mask, 1],\n",
    "        label=level,\n",
    "        alpha=0.8,\n",
    "        s=100\n",
    "    )\n",
    "\n",
    "plt.title(\"c-TF-IDF Based Topic Map Across Hierarchical Levels\")\n",
    "plt.legend()\n",
    "plt.grid(True)\n",
    "plt.show()"
   ]
  },
  {
   "cell_type": "code",
   "execution_count": null,
   "metadata": {
    "colab": {
     "base_uri": "https://localhost:8080/",
     "height": 1000
    },
    "executionInfo": {
     "elapsed": 1486,
     "status": "ok",
     "timestamp": 1750081926518,
     "user": {
      "displayName": "Giada Poloni",
      "userId": "05088726081194754954"
     },
     "user_tz": -120
    },
    "id": "AO7bomgFuStR",
    "outputId": "621667db-bf83-47e0-d4c4-89b249fdca45"
   },
   "outputs": [],
   "source": [
    "def plot_similarity_heatmap(model_a, model_b, label_a=\"Model A\", label_b=\"Model B\"):\n",
    "    vocab_a = model_a.vectorizer_model.get_feature_names_out()\n",
    "    vocab_b = model_b.vectorizer_model.get_feature_names_out()\n",
    "\n",
    "    common_vocab = list(set(vocab_a) & set(vocab_b))\n",
    "\n",
    "    idx_map_a = {word: i for i, word in enumerate(vocab_a)}\n",
    "    idx_map_b = {word: i for i, word in enumerate(vocab_b)}\n",
    "\n",
    "    common_idx_a = [idx_map_a[word] for word in common_vocab]\n",
    "    common_idx_b = [idx_map_b[word] for word in common_vocab]\n",
    "\n",
    "    ctfidf_a_common = model_a.c_tf_idf_[:, common_idx_a]\n",
    "    ctfidf_b_common = model_b.c_tf_idf_[:, common_idx_b]\n",
    "\n",
    "    sim_matrix = cosine_similarity(ctfidf_a_common, ctfidf_b_common)\n",
    "\n",
    "    ids_a = [i for i in model_a.get_topic_info().Topic.unique() if i >= 0]\n",
    "    ids_b = [i for i in model_b.get_topic_info().Topic.unique() if i >= 0]\n",
    "\n",
    "    plt.figure(figsize=(10, 6))\n",
    "    sns.heatmap(sim_matrix,\n",
    "                xticklabels=ids_b,\n",
    "                yticklabels=ids_a,\n",
    "                cmap=\"viridis\",\n",
    "                annot=True,\n",
    "                fmt=\".2f\",\n",
    "                vmin=0,\n",
    "                vmax=1)\n",
    "\n",
    "    plt.xlabel(f\"{label_b} Topics\")\n",
    "    plt.ylabel(f\"{label_a} Topics\")\n",
    "    plt.title(f\"c-TF-IDF Similarity Between Topics: {label_a} vs {label_b}\")\n",
    "    plt.tight_layout()\n",
    "    plt.show()\n",
    "\n",
    "# Heatmap\n",
    "plot_similarity_heatmap(topic_model_low, topic_model_medium, \"Low\", \"Medium\")\n",
    "plot_similarity_heatmap(topic_model_medium, topic_model_high, \"Medium\", \"High\")\n",
    "plot_similarity_heatmap(topic_model_low, topic_model_high, \"Low\", \"High\")"
   ]
  }
 ],
 "metadata": {
  "accelerator": "GPU",
  "colab": {
   "collapsed_sections": [
    "Z6_Z_LfzSTvG",
    "Hk3nSd7UxWWG",
    "6qMv__TbXdHJ",
    "2H0l3z4lcqd-",
    "EvynQl4FeQON",
    "yHbCkQGRxuDr",
    "Ud8tM_ZOeZPQ"
   ],
   "gpuType": "A100",
   "machine_shape": "hm",
   "provenance": []
  },
  "kernelspec": {
   "display_name": "Python 3",
   "name": "python3"
  },
  "language_info": {
   "name": "python"
  },
  "widgets": {
   "application/vnd.jupyter.widget-state+json": {
    "027e1b45ad5e4019822bd48645ecb042": {
     "model_module": "@jupyter-widgets/controls",
     "model_module_version": "1.5.0",
     "model_name": "HBoxModel",
     "state": {
      "_dom_classes": [],
      "_model_module": "@jupyter-widgets/controls",
      "_model_module_version": "1.5.0",
      "_model_name": "HBoxModel",
      "_view_count": null,
      "_view_module": "@jupyter-widgets/controls",
      "_view_module_version": "1.5.0",
      "_view_name": "HBoxView",
      "box_style": "",
      "children": [
       "IPY_MODEL_80dfb373c6794b299f703e18377b823c",
       "IPY_MODEL_6f1b45de0ab14951938151f998e2d8a2",
       "IPY_MODEL_4c5487a9033540058b2936489ff4a7e4"
      ],
      "layout": "IPY_MODEL_32692252a95c440cb5f4bfca37868c2f"
     }
    },
    "072d71dd0a0c44c78126169571242234": {
     "model_module": "@jupyter-widgets/controls",
     "model_module_version": "1.5.0",
     "model_name": "HTMLModel",
     "state": {
      "_dom_classes": [],
      "_model_module": "@jupyter-widgets/controls",
      "_model_module_version": "1.5.0",
      "_model_name": "HTMLModel",
      "_view_count": null,
      "_view_module": "@jupyter-widgets/controls",
      "_view_module_version": "1.5.0",
      "_view_name": "HTMLView",
      "description": "",
      "description_tooltip": null,
      "layout": "IPY_MODEL_1dc8f610150b46da89d21d3605112667",
      "placeholder": "​",
      "style": "IPY_MODEL_91efe1fc288a4a1b98d2681f818da371",
      "value": "Batches: 100%"
     }
    },
    "0bdd2f59623d4082afb2116a262363df": {
     "model_module": "@jupyter-widgets/controls",
     "model_module_version": "1.5.0",
     "model_name": "ProgressStyleModel",
     "state": {
      "_model_module": "@jupyter-widgets/controls",
      "_model_module_version": "1.5.0",
      "_model_name": "ProgressStyleModel",
      "_view_count": null,
      "_view_module": "@jupyter-widgets/base",
      "_view_module_version": "1.2.0",
      "_view_name": "StyleView",
      "bar_color": null,
      "description_width": ""
     }
    },
    "0d3564e206d343f7b26a26201e36936c": {
     "model_module": "@jupyter-widgets/controls",
     "model_module_version": "1.5.0",
     "model_name": "HBoxModel",
     "state": {
      "_dom_classes": [],
      "_model_module": "@jupyter-widgets/controls",
      "_model_module_version": "1.5.0",
      "_model_name": "HBoxModel",
      "_view_count": null,
      "_view_module": "@jupyter-widgets/controls",
      "_view_module_version": "1.5.0",
      "_view_name": "HBoxView",
      "box_style": "",
      "children": [
       "IPY_MODEL_e9934397f1374ce3ad202cdc172b56bc",
       "IPY_MODEL_bc131680a5184a42bbe8d50e9e2c810b",
       "IPY_MODEL_7df4c726bbbe4b1894cf7347fc17466f"
      ],
      "layout": "IPY_MODEL_7dcfa662e4674e02aac8bd59663ed70a"
     }
    },
    "169ba110b20d4af3a2af97b7ee5295b3": {
     "model_module": "@jupyter-widgets/base",
     "model_module_version": "1.2.0",
     "model_name": "LayoutModel",
     "state": {
      "_model_module": "@jupyter-widgets/base",
      "_model_module_version": "1.2.0",
      "_model_name": "LayoutModel",
      "_view_count": null,
      "_view_module": "@jupyter-widgets/base",
      "_view_module_version": "1.2.0",
      "_view_name": "LayoutView",
      "align_content": null,
      "align_items": null,
      "align_self": null,
      "border": null,
      "bottom": null,
      "display": null,
      "flex": null,
      "flex_flow": null,
      "grid_area": null,
      "grid_auto_columns": null,
      "grid_auto_flow": null,
      "grid_auto_rows": null,
      "grid_column": null,
      "grid_gap": null,
      "grid_row": null,
      "grid_template_areas": null,
      "grid_template_columns": null,
      "grid_template_rows": null,
      "height": null,
      "justify_content": null,
      "justify_items": null,
      "left": null,
      "margin": null,
      "max_height": null,
      "max_width": null,
      "min_height": null,
      "min_width": null,
      "object_fit": null,
      "object_position": null,
      "order": null,
      "overflow": null,
      "overflow_x": null,
      "overflow_y": null,
      "padding": null,
      "right": null,
      "top": null,
      "visibility": null,
      "width": null
     }
    },
    "16ea6cb9d36b4e95908db6d654923cd0": {
     "model_module": "@jupyter-widgets/base",
     "model_module_version": "1.2.0",
     "model_name": "LayoutModel",
     "state": {
      "_model_module": "@jupyter-widgets/base",
      "_model_module_version": "1.2.0",
      "_model_name": "LayoutModel",
      "_view_count": null,
      "_view_module": "@jupyter-widgets/base",
      "_view_module_version": "1.2.0",
      "_view_name": "LayoutView",
      "align_content": null,
      "align_items": null,
      "align_self": null,
      "border": null,
      "bottom": null,
      "display": null,
      "flex": null,
      "flex_flow": null,
      "grid_area": null,
      "grid_auto_columns": null,
      "grid_auto_flow": null,
      "grid_auto_rows": null,
      "grid_column": null,
      "grid_gap": null,
      "grid_row": null,
      "grid_template_areas": null,
      "grid_template_columns": null,
      "grid_template_rows": null,
      "height": null,
      "justify_content": null,
      "justify_items": null,
      "left": null,
      "margin": null,
      "max_height": null,
      "max_width": null,
      "min_height": null,
      "min_width": null,
      "object_fit": null,
      "object_position": null,
      "order": null,
      "overflow": null,
      "overflow_x": null,
      "overflow_y": null,
      "padding": null,
      "right": null,
      "top": null,
      "visibility": null,
      "width": null
     }
    },
    "1c149025f3ba4fd8a8bb4d25665e0fca": {
     "model_module": "@jupyter-widgets/controls",
     "model_module_version": "1.5.0",
     "model_name": "DescriptionStyleModel",
     "state": {
      "_model_module": "@jupyter-widgets/controls",
      "_model_module_version": "1.5.0",
      "_model_name": "DescriptionStyleModel",
      "_view_count": null,
      "_view_module": "@jupyter-widgets/base",
      "_view_module_version": "1.2.0",
      "_view_name": "StyleView",
      "description_width": ""
     }
    },
    "1dc8f610150b46da89d21d3605112667": {
     "model_module": "@jupyter-widgets/base",
     "model_module_version": "1.2.0",
     "model_name": "LayoutModel",
     "state": {
      "_model_module": "@jupyter-widgets/base",
      "_model_module_version": "1.2.0",
      "_model_name": "LayoutModel",
      "_view_count": null,
      "_view_module": "@jupyter-widgets/base",
      "_view_module_version": "1.2.0",
      "_view_name": "LayoutView",
      "align_content": null,
      "align_items": null,
      "align_self": null,
      "border": null,
      "bottom": null,
      "display": null,
      "flex": null,
      "flex_flow": null,
      "grid_area": null,
      "grid_auto_columns": null,
      "grid_auto_flow": null,
      "grid_auto_rows": null,
      "grid_column": null,
      "grid_gap": null,
      "grid_row": null,
      "grid_template_areas": null,
      "grid_template_columns": null,
      "grid_template_rows": null,
      "height": null,
      "justify_content": null,
      "justify_items": null,
      "left": null,
      "margin": null,
      "max_height": null,
      "max_width": null,
      "min_height": null,
      "min_width": null,
      "object_fit": null,
      "object_position": null,
      "order": null,
      "overflow": null,
      "overflow_x": null,
      "overflow_y": null,
      "padding": null,
      "right": null,
      "top": null,
      "visibility": null,
      "width": null
     }
    },
    "1dff7baefe044ef9a1e7ee082ef2c9e5": {
     "model_module": "@jupyter-widgets/base",
     "model_module_version": "1.2.0",
     "model_name": "LayoutModel",
     "state": {
      "_model_module": "@jupyter-widgets/base",
      "_model_module_version": "1.2.0",
      "_model_name": "LayoutModel",
      "_view_count": null,
      "_view_module": "@jupyter-widgets/base",
      "_view_module_version": "1.2.0",
      "_view_name": "LayoutView",
      "align_content": null,
      "align_items": null,
      "align_self": null,
      "border": null,
      "bottom": null,
      "display": null,
      "flex": null,
      "flex_flow": null,
      "grid_area": null,
      "grid_auto_columns": null,
      "grid_auto_flow": null,
      "grid_auto_rows": null,
      "grid_column": null,
      "grid_gap": null,
      "grid_row": null,
      "grid_template_areas": null,
      "grid_template_columns": null,
      "grid_template_rows": null,
      "height": null,
      "justify_content": null,
      "justify_items": null,
      "left": null,
      "margin": null,
      "max_height": null,
      "max_width": null,
      "min_height": null,
      "min_width": null,
      "object_fit": null,
      "object_position": null,
      "order": null,
      "overflow": null,
      "overflow_x": null,
      "overflow_y": null,
      "padding": null,
      "right": null,
      "top": null,
      "visibility": null,
      "width": null
     }
    },
    "2257a27d0abe47aba706a1faf79bfc21": {
     "model_module": "@jupyter-widgets/base",
     "model_module_version": "1.2.0",
     "model_name": "LayoutModel",
     "state": {
      "_model_module": "@jupyter-widgets/base",
      "_model_module_version": "1.2.0",
      "_model_name": "LayoutModel",
      "_view_count": null,
      "_view_module": "@jupyter-widgets/base",
      "_view_module_version": "1.2.0",
      "_view_name": "LayoutView",
      "align_content": null,
      "align_items": null,
      "align_self": null,
      "border": null,
      "bottom": null,
      "display": null,
      "flex": null,
      "flex_flow": null,
      "grid_area": null,
      "grid_auto_columns": null,
      "grid_auto_flow": null,
      "grid_auto_rows": null,
      "grid_column": null,
      "grid_gap": null,
      "grid_row": null,
      "grid_template_areas": null,
      "grid_template_columns": null,
      "grid_template_rows": null,
      "height": null,
      "justify_content": null,
      "justify_items": null,
      "left": null,
      "margin": null,
      "max_height": null,
      "max_width": null,
      "min_height": null,
      "min_width": null,
      "object_fit": null,
      "object_position": null,
      "order": null,
      "overflow": null,
      "overflow_x": null,
      "overflow_y": null,
      "padding": null,
      "right": null,
      "top": null,
      "visibility": null,
      "width": null
     }
    },
    "2840f7f5a34048ddb1f4cbb683c00d8d": {
     "model_module": "@jupyter-widgets/controls",
     "model_module_version": "1.5.0",
     "model_name": "DescriptionStyleModel",
     "state": {
      "_model_module": "@jupyter-widgets/controls",
      "_model_module_version": "1.5.0",
      "_model_name": "DescriptionStyleModel",
      "_view_count": null,
      "_view_module": "@jupyter-widgets/base",
      "_view_module_version": "1.2.0",
      "_view_name": "StyleView",
      "description_width": ""
     }
    },
    "2aea4dfda4c24c10bc198c4024bac4c6": {
     "model_module": "@jupyter-widgets/base",
     "model_module_version": "1.2.0",
     "model_name": "LayoutModel",
     "state": {
      "_model_module": "@jupyter-widgets/base",
      "_model_module_version": "1.2.0",
      "_model_name": "LayoutModel",
      "_view_count": null,
      "_view_module": "@jupyter-widgets/base",
      "_view_module_version": "1.2.0",
      "_view_name": "LayoutView",
      "align_content": null,
      "align_items": null,
      "align_self": null,
      "border": null,
      "bottom": null,
      "display": null,
      "flex": null,
      "flex_flow": null,
      "grid_area": null,
      "grid_auto_columns": null,
      "grid_auto_flow": null,
      "grid_auto_rows": null,
      "grid_column": null,
      "grid_gap": null,
      "grid_row": null,
      "grid_template_areas": null,
      "grid_template_columns": null,
      "grid_template_rows": null,
      "height": null,
      "justify_content": null,
      "justify_items": null,
      "left": null,
      "margin": null,
      "max_height": null,
      "max_width": null,
      "min_height": null,
      "min_width": null,
      "object_fit": null,
      "object_position": null,
      "order": null,
      "overflow": null,
      "overflow_x": null,
      "overflow_y": null,
      "padding": null,
      "right": null,
      "top": null,
      "visibility": null,
      "width": null
     }
    },
    "2fb253d326ed4ff88950dbfdeace7feb": {
     "model_module": "@jupyter-widgets/base",
     "model_module_version": "1.2.0",
     "model_name": "LayoutModel",
     "state": {
      "_model_module": "@jupyter-widgets/base",
      "_model_module_version": "1.2.0",
      "_model_name": "LayoutModel",
      "_view_count": null,
      "_view_module": "@jupyter-widgets/base",
      "_view_module_version": "1.2.0",
      "_view_name": "LayoutView",
      "align_content": null,
      "align_items": null,
      "align_self": null,
      "border": null,
      "bottom": null,
      "display": null,
      "flex": null,
      "flex_flow": null,
      "grid_area": null,
      "grid_auto_columns": null,
      "grid_auto_flow": null,
      "grid_auto_rows": null,
      "grid_column": null,
      "grid_gap": null,
      "grid_row": null,
      "grid_template_areas": null,
      "grid_template_columns": null,
      "grid_template_rows": null,
      "height": null,
      "justify_content": null,
      "justify_items": null,
      "left": null,
      "margin": null,
      "max_height": null,
      "max_width": null,
      "min_height": null,
      "min_width": null,
      "object_fit": null,
      "object_position": null,
      "order": null,
      "overflow": null,
      "overflow_x": null,
      "overflow_y": null,
      "padding": null,
      "right": null,
      "top": null,
      "visibility": null,
      "width": null
     }
    },
    "30edc39cc7a44bf5875dd7045513026e": {
     "model_module": "@jupyter-widgets/base",
     "model_module_version": "1.2.0",
     "model_name": "LayoutModel",
     "state": {
      "_model_module": "@jupyter-widgets/base",
      "_model_module_version": "1.2.0",
      "_model_name": "LayoutModel",
      "_view_count": null,
      "_view_module": "@jupyter-widgets/base",
      "_view_module_version": "1.2.0",
      "_view_name": "LayoutView",
      "align_content": null,
      "align_items": null,
      "align_self": null,
      "border": null,
      "bottom": null,
      "display": null,
      "flex": null,
      "flex_flow": null,
      "grid_area": null,
      "grid_auto_columns": null,
      "grid_auto_flow": null,
      "grid_auto_rows": null,
      "grid_column": null,
      "grid_gap": null,
      "grid_row": null,
      "grid_template_areas": null,
      "grid_template_columns": null,
      "grid_template_rows": null,
      "height": null,
      "justify_content": null,
      "justify_items": null,
      "left": null,
      "margin": null,
      "max_height": null,
      "max_width": null,
      "min_height": null,
      "min_width": null,
      "object_fit": null,
      "object_position": null,
      "order": null,
      "overflow": null,
      "overflow_x": null,
      "overflow_y": null,
      "padding": null,
      "right": null,
      "top": null,
      "visibility": null,
      "width": null
     }
    },
    "32692252a95c440cb5f4bfca37868c2f": {
     "model_module": "@jupyter-widgets/base",
     "model_module_version": "1.2.0",
     "model_name": "LayoutModel",
     "state": {
      "_model_module": "@jupyter-widgets/base",
      "_model_module_version": "1.2.0",
      "_model_name": "LayoutModel",
      "_view_count": null,
      "_view_module": "@jupyter-widgets/base",
      "_view_module_version": "1.2.0",
      "_view_name": "LayoutView",
      "align_content": null,
      "align_items": null,
      "align_self": null,
      "border": null,
      "bottom": null,
      "display": null,
      "flex": null,
      "flex_flow": null,
      "grid_area": null,
      "grid_auto_columns": null,
      "grid_auto_flow": null,
      "grid_auto_rows": null,
      "grid_column": null,
      "grid_gap": null,
      "grid_row": null,
      "grid_template_areas": null,
      "grid_template_columns": null,
      "grid_template_rows": null,
      "height": null,
      "justify_content": null,
      "justify_items": null,
      "left": null,
      "margin": null,
      "max_height": null,
      "max_width": null,
      "min_height": null,
      "min_width": null,
      "object_fit": null,
      "object_position": null,
      "order": null,
      "overflow": null,
      "overflow_x": null,
      "overflow_y": null,
      "padding": null,
      "right": null,
      "top": null,
      "visibility": null,
      "width": null
     }
    },
    "3b1b339373f44f9a922746cb2467acfd": {
     "model_module": "@jupyter-widgets/controls",
     "model_module_version": "1.5.0",
     "model_name": "FloatProgressModel",
     "state": {
      "_dom_classes": [],
      "_model_module": "@jupyter-widgets/controls",
      "_model_module_version": "1.5.0",
      "_model_name": "FloatProgressModel",
      "_view_count": null,
      "_view_module": "@jupyter-widgets/controls",
      "_view_module_version": "1.5.0",
      "_view_name": "ProgressView",
      "bar_style": "success",
      "description": "",
      "description_tooltip": null,
      "layout": "IPY_MODEL_16ea6cb9d36b4e95908db6d654923cd0",
      "max": 570,
      "min": 0,
      "orientation": "horizontal",
      "style": "IPY_MODEL_bc4a1d8a97d0484caba16a41932e555a",
      "value": 570
     }
    },
    "3bd5d0297a744288bf7f4893bdfaab2a": {
     "model_module": "@jupyter-widgets/controls",
     "model_module_version": "1.5.0",
     "model_name": "HTMLModel",
     "state": {
      "_dom_classes": [],
      "_model_module": "@jupyter-widgets/controls",
      "_model_module_version": "1.5.0",
      "_model_name": "HTMLModel",
      "_view_count": null,
      "_view_module": "@jupyter-widgets/controls",
      "_view_module_version": "1.5.0",
      "_view_name": "HTMLView",
      "description": "",
      "description_tooltip": null,
      "layout": "IPY_MODEL_1dff7baefe044ef9a1e7ee082ef2c9e5",
      "placeholder": "​",
      "style": "IPY_MODEL_e1712349fe494f1c8d7b4d8eedf9fb0e",
      "value": " 1266/1266 [02:39&lt;00:00, 82.18it/s]"
     }
    },
    "3dc93df454af4cec9100c2ac8ac22e7e": {
     "model_module": "@jupyter-widgets/controls",
     "model_module_version": "1.5.0",
     "model_name": "HBoxModel",
     "state": {
      "_dom_classes": [],
      "_model_module": "@jupyter-widgets/controls",
      "_model_module_version": "1.5.0",
      "_model_name": "HBoxModel",
      "_view_count": null,
      "_view_module": "@jupyter-widgets/controls",
      "_view_module_version": "1.5.0",
      "_view_name": "HBoxView",
      "box_style": "",
      "children": [
       "IPY_MODEL_c2a6addb11cd4cda9b1ced0910796012",
       "IPY_MODEL_3b1b339373f44f9a922746cb2467acfd",
       "IPY_MODEL_47a52baa363340d9a89e34551d671c97"
      ],
      "layout": "IPY_MODEL_a9a7dabcb1bb482ba63620b6f4506de3"
     }
    },
    "47a52baa363340d9a89e34551d671c97": {
     "model_module": "@jupyter-widgets/controls",
     "model_module_version": "1.5.0",
     "model_name": "HTMLModel",
     "state": {
      "_dom_classes": [],
      "_model_module": "@jupyter-widgets/controls",
      "_model_module_version": "1.5.0",
      "_model_name": "HTMLModel",
      "_view_count": null,
      "_view_module": "@jupyter-widgets/controls",
      "_view_module_version": "1.5.0",
      "_view_name": "HTMLView",
      "description": "",
      "description_tooltip": null,
      "layout": "IPY_MODEL_30edc39cc7a44bf5875dd7045513026e",
      "placeholder": "​",
      "style": "IPY_MODEL_94b67c978d3240ab97ec8d0edeecd49b",
      "value": " 570/570 [01:01&lt;00:00, 77.35it/s]"
     }
    },
    "4c5487a9033540058b2936489ff4a7e4": {
     "model_module": "@jupyter-widgets/controls",
     "model_module_version": "1.5.0",
     "model_name": "HTMLModel",
     "state": {
      "_dom_classes": [],
      "_model_module": "@jupyter-widgets/controls",
      "_model_module_version": "1.5.0",
      "_model_name": "HTMLModel",
      "_view_count": null,
      "_view_module": "@jupyter-widgets/controls",
      "_view_module_version": "1.5.0",
      "_view_name": "HTMLView",
      "description": "",
      "description_tooltip": null,
      "layout": "IPY_MODEL_dc1a19efb5d7474a8a9469e8f6bdb6d1",
      "placeholder": "​",
      "style": "IPY_MODEL_efcf28c4d5f24f098b90a232963f0854",
      "value": " 1764/1764 [04:09&lt;00:00, 82.16it/s]"
     }
    },
    "4efe9417b27e432291f94dc59fab1386": {
     "model_module": "@jupyter-widgets/controls",
     "model_module_version": "1.5.0",
     "model_name": "ProgressStyleModel",
     "state": {
      "_model_module": "@jupyter-widgets/controls",
      "_model_module_version": "1.5.0",
      "_model_name": "ProgressStyleModel",
      "_view_count": null,
      "_view_module": "@jupyter-widgets/base",
      "_view_module_version": "1.2.0",
      "_view_name": "StyleView",
      "bar_color": null,
      "description_width": ""
     }
    },
    "547fb7766588413ca57f0416a972b0d9": {
     "model_module": "@jupyter-widgets/controls",
     "model_module_version": "1.5.0",
     "model_name": "HTMLModel",
     "state": {
      "_dom_classes": [],
      "_model_module": "@jupyter-widgets/controls",
      "_model_module_version": "1.5.0",
      "_model_name": "HTMLModel",
      "_view_count": null,
      "_view_module": "@jupyter-widgets/controls",
      "_view_module_version": "1.5.0",
      "_view_name": "HTMLView",
      "description": "",
      "description_tooltip": null,
      "layout": "IPY_MODEL_169ba110b20d4af3a2af97b7ee5295b3",
      "placeholder": "​",
      "style": "IPY_MODEL_5fcd9ad63713497687d64447d9453efe",
      "value": " 16/16 [00:02&lt;00:00, 15.50it/s]"
     }
    },
    "5fcd9ad63713497687d64447d9453efe": {
     "model_module": "@jupyter-widgets/controls",
     "model_module_version": "1.5.0",
     "model_name": "DescriptionStyleModel",
     "state": {
      "_model_module": "@jupyter-widgets/controls",
      "_model_module_version": "1.5.0",
      "_model_name": "DescriptionStyleModel",
      "_view_count": null,
      "_view_module": "@jupyter-widgets/base",
      "_view_module_version": "1.2.0",
      "_view_name": "StyleView",
      "description_width": ""
     }
    },
    "6593c0f71224462dbbe31d6b1d9c74b9": {
     "model_module": "@jupyter-widgets/base",
     "model_module_version": "1.2.0",
     "model_name": "LayoutModel",
     "state": {
      "_model_module": "@jupyter-widgets/base",
      "_model_module_version": "1.2.0",
      "_model_name": "LayoutModel",
      "_view_count": null,
      "_view_module": "@jupyter-widgets/base",
      "_view_module_version": "1.2.0",
      "_view_name": "LayoutView",
      "align_content": null,
      "align_items": null,
      "align_self": null,
      "border": null,
      "bottom": null,
      "display": null,
      "flex": null,
      "flex_flow": null,
      "grid_area": null,
      "grid_auto_columns": null,
      "grid_auto_flow": null,
      "grid_auto_rows": null,
      "grid_column": null,
      "grid_gap": null,
      "grid_row": null,
      "grid_template_areas": null,
      "grid_template_columns": null,
      "grid_template_rows": null,
      "height": null,
      "justify_content": null,
      "justify_items": null,
      "left": null,
      "margin": null,
      "max_height": null,
      "max_width": null,
      "min_height": null,
      "min_width": null,
      "object_fit": null,
      "object_position": null,
      "order": null,
      "overflow": null,
      "overflow_x": null,
      "overflow_y": null,
      "padding": null,
      "right": null,
      "top": null,
      "visibility": null,
      "width": null
     }
    },
    "6ab01b89c0fc4896961a1643b2cb1430": {
     "model_module": "@jupyter-widgets/base",
     "model_module_version": "1.2.0",
     "model_name": "LayoutModel",
     "state": {
      "_model_module": "@jupyter-widgets/base",
      "_model_module_version": "1.2.0",
      "_model_name": "LayoutModel",
      "_view_count": null,
      "_view_module": "@jupyter-widgets/base",
      "_view_module_version": "1.2.0",
      "_view_name": "LayoutView",
      "align_content": null,
      "align_items": null,
      "align_self": null,
      "border": null,
      "bottom": null,
      "display": null,
      "flex": null,
      "flex_flow": null,
      "grid_area": null,
      "grid_auto_columns": null,
      "grid_auto_flow": null,
      "grid_auto_rows": null,
      "grid_column": null,
      "grid_gap": null,
      "grid_row": null,
      "grid_template_areas": null,
      "grid_template_columns": null,
      "grid_template_rows": null,
      "height": null,
      "justify_content": null,
      "justify_items": null,
      "left": null,
      "margin": null,
      "max_height": null,
      "max_width": null,
      "min_height": null,
      "min_width": null,
      "object_fit": null,
      "object_position": null,
      "order": null,
      "overflow": null,
      "overflow_x": null,
      "overflow_y": null,
      "padding": null,
      "right": null,
      "top": null,
      "visibility": null,
      "width": null
     }
    },
    "6f1b45de0ab14951938151f998e2d8a2": {
     "model_module": "@jupyter-widgets/controls",
     "model_module_version": "1.5.0",
     "model_name": "FloatProgressModel",
     "state": {
      "_dom_classes": [],
      "_model_module": "@jupyter-widgets/controls",
      "_model_module_version": "1.5.0",
      "_model_name": "FloatProgressModel",
      "_view_count": null,
      "_view_module": "@jupyter-widgets/controls",
      "_view_module_version": "1.5.0",
      "_view_name": "ProgressView",
      "bar_style": "success",
      "description": "",
      "description_tooltip": null,
      "layout": "IPY_MODEL_d4b6e0298eec4e15a49fafb64fbf1071",
      "max": 1764,
      "min": 0,
      "orientation": "horizontal",
      "style": "IPY_MODEL_0bdd2f59623d4082afb2116a262363df",
      "value": 1764
     }
    },
    "708baa8e8f29420cad3e9c6b3419386b": {
     "model_module": "@jupyter-widgets/controls",
     "model_module_version": "1.5.0",
     "model_name": "DescriptionStyleModel",
     "state": {
      "_model_module": "@jupyter-widgets/controls",
      "_model_module_version": "1.5.0",
      "_model_name": "DescriptionStyleModel",
      "_view_count": null,
      "_view_module": "@jupyter-widgets/base",
      "_view_module_version": "1.2.0",
      "_view_name": "StyleView",
      "description_width": ""
     }
    },
    "7beae78ad34d401b830593d6d1e95dc3": {
     "model_module": "@jupyter-widgets/base",
     "model_module_version": "1.2.0",
     "model_name": "LayoutModel",
     "state": {
      "_model_module": "@jupyter-widgets/base",
      "_model_module_version": "1.2.0",
      "_model_name": "LayoutModel",
      "_view_count": null,
      "_view_module": "@jupyter-widgets/base",
      "_view_module_version": "1.2.0",
      "_view_name": "LayoutView",
      "align_content": null,
      "align_items": null,
      "align_self": null,
      "border": null,
      "bottom": null,
      "display": null,
      "flex": null,
      "flex_flow": null,
      "grid_area": null,
      "grid_auto_columns": null,
      "grid_auto_flow": null,
      "grid_auto_rows": null,
      "grid_column": null,
      "grid_gap": null,
      "grid_row": null,
      "grid_template_areas": null,
      "grid_template_columns": null,
      "grid_template_rows": null,
      "height": null,
      "justify_content": null,
      "justify_items": null,
      "left": null,
      "margin": null,
      "max_height": null,
      "max_width": null,
      "min_height": null,
      "min_width": null,
      "object_fit": null,
      "object_position": null,
      "order": null,
      "overflow": null,
      "overflow_x": null,
      "overflow_y": null,
      "padding": null,
      "right": null,
      "top": null,
      "visibility": null,
      "width": null
     }
    },
    "7dcfa662e4674e02aac8bd59663ed70a": {
     "model_module": "@jupyter-widgets/base",
     "model_module_version": "1.2.0",
     "model_name": "LayoutModel",
     "state": {
      "_model_module": "@jupyter-widgets/base",
      "_model_module_version": "1.2.0",
      "_model_name": "LayoutModel",
      "_view_count": null,
      "_view_module": "@jupyter-widgets/base",
      "_view_module_version": "1.2.0",
      "_view_name": "LayoutView",
      "align_content": null,
      "align_items": null,
      "align_self": null,
      "border": null,
      "bottom": null,
      "display": null,
      "flex": null,
      "flex_flow": null,
      "grid_area": null,
      "grid_auto_columns": null,
      "grid_auto_flow": null,
      "grid_auto_rows": null,
      "grid_column": null,
      "grid_gap": null,
      "grid_row": null,
      "grid_template_areas": null,
      "grid_template_columns": null,
      "grid_template_rows": null,
      "height": null,
      "justify_content": null,
      "justify_items": null,
      "left": null,
      "margin": null,
      "max_height": null,
      "max_width": null,
      "min_height": null,
      "min_width": null,
      "object_fit": null,
      "object_position": null,
      "order": null,
      "overflow": null,
      "overflow_x": null,
      "overflow_y": null,
      "padding": null,
      "right": null,
      "top": null,
      "visibility": null,
      "width": null
     }
    },
    "7df4c726bbbe4b1894cf7347fc17466f": {
     "model_module": "@jupyter-widgets/controls",
     "model_module_version": "1.5.0",
     "model_name": "HTMLModel",
     "state": {
      "_dom_classes": [],
      "_model_module": "@jupyter-widgets/controls",
      "_model_module_version": "1.5.0",
      "_model_name": "HTMLModel",
      "_view_count": null,
      "_view_module": "@jupyter-widgets/controls",
      "_view_module_version": "1.5.0",
      "_view_name": "HTMLView",
      "description": "",
      "description_tooltip": null,
      "layout": "IPY_MODEL_8822059230904a6e86b0ee6acebfcc50",
      "placeholder": "​",
      "style": "IPY_MODEL_2840f7f5a34048ddb1f4cbb683c00d8d",
      "value": " 16/16 [00:02&lt;00:00, 15.13it/s]"
     }
    },
    "7ea632e18378401e99b8e4d9d5870f38": {
     "model_module": "@jupyter-widgets/controls",
     "model_module_version": "1.5.0",
     "model_name": "ProgressStyleModel",
     "state": {
      "_model_module": "@jupyter-widgets/controls",
      "_model_module_version": "1.5.0",
      "_model_name": "ProgressStyleModel",
      "_view_count": null,
      "_view_module": "@jupyter-widgets/base",
      "_view_module_version": "1.2.0",
      "_view_name": "StyleView",
      "bar_color": null,
      "description_width": ""
     }
    },
    "80dfb373c6794b299f703e18377b823c": {
     "model_module": "@jupyter-widgets/controls",
     "model_module_version": "1.5.0",
     "model_name": "HTMLModel",
     "state": {
      "_dom_classes": [],
      "_model_module": "@jupyter-widgets/controls",
      "_model_module_version": "1.5.0",
      "_model_name": "HTMLModel",
      "_view_count": null,
      "_view_module": "@jupyter-widgets/controls",
      "_view_module_version": "1.5.0",
      "_view_name": "HTMLView",
      "description": "",
      "description_tooltip": null,
      "layout": "IPY_MODEL_2aea4dfda4c24c10bc198c4024bac4c6",
      "placeholder": "​",
      "style": "IPY_MODEL_f961c32239bb49ea8cc25fed959f6bab",
      "value": "Batches: 100%"
     }
    },
    "8822059230904a6e86b0ee6acebfcc50": {
     "model_module": "@jupyter-widgets/base",
     "model_module_version": "1.2.0",
     "model_name": "LayoutModel",
     "state": {
      "_model_module": "@jupyter-widgets/base",
      "_model_module_version": "1.2.0",
      "_model_name": "LayoutModel",
      "_view_count": null,
      "_view_module": "@jupyter-widgets/base",
      "_view_module_version": "1.2.0",
      "_view_name": "LayoutView",
      "align_content": null,
      "align_items": null,
      "align_self": null,
      "border": null,
      "bottom": null,
      "display": null,
      "flex": null,
      "flex_flow": null,
      "grid_area": null,
      "grid_auto_columns": null,
      "grid_auto_flow": null,
      "grid_auto_rows": null,
      "grid_column": null,
      "grid_gap": null,
      "grid_row": null,
      "grid_template_areas": null,
      "grid_template_columns": null,
      "grid_template_rows": null,
      "height": null,
      "justify_content": null,
      "justify_items": null,
      "left": null,
      "margin": null,
      "max_height": null,
      "max_width": null,
      "min_height": null,
      "min_width": null,
      "object_fit": null,
      "object_position": null,
      "order": null,
      "overflow": null,
      "overflow_x": null,
      "overflow_y": null,
      "padding": null,
      "right": null,
      "top": null,
      "visibility": null,
      "width": null
     }
    },
    "898153408661401992242d88a820b537": {
     "model_module": "@jupyter-widgets/base",
     "model_module_version": "1.2.0",
     "model_name": "LayoutModel",
     "state": {
      "_model_module": "@jupyter-widgets/base",
      "_model_module_version": "1.2.0",
      "_model_name": "LayoutModel",
      "_view_count": null,
      "_view_module": "@jupyter-widgets/base",
      "_view_module_version": "1.2.0",
      "_view_name": "LayoutView",
      "align_content": null,
      "align_items": null,
      "align_self": null,
      "border": null,
      "bottom": null,
      "display": null,
      "flex": null,
      "flex_flow": null,
      "grid_area": null,
      "grid_auto_columns": null,
      "grid_auto_flow": null,
      "grid_auto_rows": null,
      "grid_column": null,
      "grid_gap": null,
      "grid_row": null,
      "grid_template_areas": null,
      "grid_template_columns": null,
      "grid_template_rows": null,
      "height": null,
      "justify_content": null,
      "justify_items": null,
      "left": null,
      "margin": null,
      "max_height": null,
      "max_width": null,
      "min_height": null,
      "min_width": null,
      "object_fit": null,
      "object_position": null,
      "order": null,
      "overflow": null,
      "overflow_x": null,
      "overflow_y": null,
      "padding": null,
      "right": null,
      "top": null,
      "visibility": null,
      "width": null
     }
    },
    "91efe1fc288a4a1b98d2681f818da371": {
     "model_module": "@jupyter-widgets/controls",
     "model_module_version": "1.5.0",
     "model_name": "DescriptionStyleModel",
     "state": {
      "_model_module": "@jupyter-widgets/controls",
      "_model_module_version": "1.5.0",
      "_model_name": "DescriptionStyleModel",
      "_view_count": null,
      "_view_module": "@jupyter-widgets/base",
      "_view_module_version": "1.2.0",
      "_view_name": "StyleView",
      "description_width": ""
     }
    },
    "9423758177a946b3a02f7a9474565de1": {
     "model_module": "@jupyter-widgets/controls",
     "model_module_version": "1.5.0",
     "model_name": "ProgressStyleModel",
     "state": {
      "_model_module": "@jupyter-widgets/controls",
      "_model_module_version": "1.5.0",
      "_model_name": "ProgressStyleModel",
      "_view_count": null,
      "_view_module": "@jupyter-widgets/base",
      "_view_module_version": "1.2.0",
      "_view_name": "StyleView",
      "bar_color": null,
      "description_width": ""
     }
    },
    "94b67c978d3240ab97ec8d0edeecd49b": {
     "model_module": "@jupyter-widgets/controls",
     "model_module_version": "1.5.0",
     "model_name": "DescriptionStyleModel",
     "state": {
      "_model_module": "@jupyter-widgets/controls",
      "_model_module_version": "1.5.0",
      "_model_name": "DescriptionStyleModel",
      "_view_count": null,
      "_view_module": "@jupyter-widgets/base",
      "_view_module_version": "1.2.0",
      "_view_name": "StyleView",
      "description_width": ""
     }
    },
    "a4d93cc72e184ba99aafa603fae0e3fd": {
     "model_module": "@jupyter-widgets/controls",
     "model_module_version": "1.5.0",
     "model_name": "HBoxModel",
     "state": {
      "_dom_classes": [],
      "_model_module": "@jupyter-widgets/controls",
      "_model_module_version": "1.5.0",
      "_model_name": "HBoxModel",
      "_view_count": null,
      "_view_module": "@jupyter-widgets/controls",
      "_view_module_version": "1.5.0",
      "_view_name": "HBoxView",
      "box_style": "",
      "children": [
       "IPY_MODEL_072d71dd0a0c44c78126169571242234",
       "IPY_MODEL_b792ac7b1ecb47f480a392deb001c6f9",
       "IPY_MODEL_547fb7766588413ca57f0416a972b0d9"
      ],
      "layout": "IPY_MODEL_cd76642f34ba4a5a8929e5d4f9eaf4f9"
     }
    },
    "a9a7dabcb1bb482ba63620b6f4506de3": {
     "model_module": "@jupyter-widgets/base",
     "model_module_version": "1.2.0",
     "model_name": "LayoutModel",
     "state": {
      "_model_module": "@jupyter-widgets/base",
      "_model_module_version": "1.2.0",
      "_model_name": "LayoutModel",
      "_view_count": null,
      "_view_module": "@jupyter-widgets/base",
      "_view_module_version": "1.2.0",
      "_view_name": "LayoutView",
      "align_content": null,
      "align_items": null,
      "align_self": null,
      "border": null,
      "bottom": null,
      "display": null,
      "flex": null,
      "flex_flow": null,
      "grid_area": null,
      "grid_auto_columns": null,
      "grid_auto_flow": null,
      "grid_auto_rows": null,
      "grid_column": null,
      "grid_gap": null,
      "grid_row": null,
      "grid_template_areas": null,
      "grid_template_columns": null,
      "grid_template_rows": null,
      "height": null,
      "justify_content": null,
      "justify_items": null,
      "left": null,
      "margin": null,
      "max_height": null,
      "max_width": null,
      "min_height": null,
      "min_width": null,
      "object_fit": null,
      "object_position": null,
      "order": null,
      "overflow": null,
      "overflow_x": null,
      "overflow_y": null,
      "padding": null,
      "right": null,
      "top": null,
      "visibility": null,
      "width": null
     }
    },
    "b792ac7b1ecb47f480a392deb001c6f9": {
     "model_module": "@jupyter-widgets/controls",
     "model_module_version": "1.5.0",
     "model_name": "FloatProgressModel",
     "state": {
      "_dom_classes": [],
      "_model_module": "@jupyter-widgets/controls",
      "_model_module_version": "1.5.0",
      "_model_name": "FloatProgressModel",
      "_view_count": null,
      "_view_module": "@jupyter-widgets/controls",
      "_view_module_version": "1.5.0",
      "_view_name": "ProgressView",
      "bar_style": "success",
      "description": "",
      "description_tooltip": null,
      "layout": "IPY_MODEL_898153408661401992242d88a820b537",
      "max": 16,
      "min": 0,
      "orientation": "horizontal",
      "style": "IPY_MODEL_9423758177a946b3a02f7a9474565de1",
      "value": 16
     }
    },
    "ba9bb0e7c9a64e39a547e120c115c0aa": {
     "model_module": "@jupyter-widgets/controls",
     "model_module_version": "1.5.0",
     "model_name": "HBoxModel",
     "state": {
      "_dom_classes": [],
      "_model_module": "@jupyter-widgets/controls",
      "_model_module_version": "1.5.0",
      "_model_name": "HBoxModel",
      "_view_count": null,
      "_view_module": "@jupyter-widgets/controls",
      "_view_module_version": "1.5.0",
      "_view_name": "HBoxView",
      "box_style": "",
      "children": [
       "IPY_MODEL_ee3ddca4e6c34922ae3340a7f3d52d4d",
       "IPY_MODEL_bc1e645697804fe4bfeec8f6ae25e33d",
       "IPY_MODEL_3bd5d0297a744288bf7f4893bdfaab2a"
      ],
      "layout": "IPY_MODEL_6ab01b89c0fc4896961a1643b2cb1430"
     }
    },
    "bc0caadf96e443ba9feffbc5041b8375": {
     "model_module": "@jupyter-widgets/base",
     "model_module_version": "1.2.0",
     "model_name": "LayoutModel",
     "state": {
      "_model_module": "@jupyter-widgets/base",
      "_model_module_version": "1.2.0",
      "_model_name": "LayoutModel",
      "_view_count": null,
      "_view_module": "@jupyter-widgets/base",
      "_view_module_version": "1.2.0",
      "_view_name": "LayoutView",
      "align_content": null,
      "align_items": null,
      "align_self": null,
      "border": null,
      "bottom": null,
      "display": null,
      "flex": null,
      "flex_flow": null,
      "grid_area": null,
      "grid_auto_columns": null,
      "grid_auto_flow": null,
      "grid_auto_rows": null,
      "grid_column": null,
      "grid_gap": null,
      "grid_row": null,
      "grid_template_areas": null,
      "grid_template_columns": null,
      "grid_template_rows": null,
      "height": null,
      "justify_content": null,
      "justify_items": null,
      "left": null,
      "margin": null,
      "max_height": null,
      "max_width": null,
      "min_height": null,
      "min_width": null,
      "object_fit": null,
      "object_position": null,
      "order": null,
      "overflow": null,
      "overflow_x": null,
      "overflow_y": null,
      "padding": null,
      "right": null,
      "top": null,
      "visibility": null,
      "width": null
     }
    },
    "bc131680a5184a42bbe8d50e9e2c810b": {
     "model_module": "@jupyter-widgets/controls",
     "model_module_version": "1.5.0",
     "model_name": "FloatProgressModel",
     "state": {
      "_dom_classes": [],
      "_model_module": "@jupyter-widgets/controls",
      "_model_module_version": "1.5.0",
      "_model_name": "FloatProgressModel",
      "_view_count": null,
      "_view_module": "@jupyter-widgets/controls",
      "_view_module_version": "1.5.0",
      "_view_name": "ProgressView",
      "bar_style": "success",
      "description": "",
      "description_tooltip": null,
      "layout": "IPY_MODEL_7beae78ad34d401b830593d6d1e95dc3",
      "max": 16,
      "min": 0,
      "orientation": "horizontal",
      "style": "IPY_MODEL_7ea632e18378401e99b8e4d9d5870f38",
      "value": 16
     }
    },
    "bc1e645697804fe4bfeec8f6ae25e33d": {
     "model_module": "@jupyter-widgets/controls",
     "model_module_version": "1.5.0",
     "model_name": "FloatProgressModel",
     "state": {
      "_dom_classes": [],
      "_model_module": "@jupyter-widgets/controls",
      "_model_module_version": "1.5.0",
      "_model_name": "FloatProgressModel",
      "_view_count": null,
      "_view_module": "@jupyter-widgets/controls",
      "_view_module_version": "1.5.0",
      "_view_name": "ProgressView",
      "bar_style": "success",
      "description": "",
      "description_tooltip": null,
      "layout": "IPY_MODEL_6593c0f71224462dbbe31d6b1d9c74b9",
      "max": 1266,
      "min": 0,
      "orientation": "horizontal",
      "style": "IPY_MODEL_4efe9417b27e432291f94dc59fab1386",
      "value": 1266
     }
    },
    "bc4a1d8a97d0484caba16a41932e555a": {
     "model_module": "@jupyter-widgets/controls",
     "model_module_version": "1.5.0",
     "model_name": "ProgressStyleModel",
     "state": {
      "_model_module": "@jupyter-widgets/controls",
      "_model_module_version": "1.5.0",
      "_model_name": "ProgressStyleModel",
      "_view_count": null,
      "_view_module": "@jupyter-widgets/base",
      "_view_module_version": "1.2.0",
      "_view_name": "StyleView",
      "bar_color": null,
      "description_width": ""
     }
    },
    "c2a6addb11cd4cda9b1ced0910796012": {
     "model_module": "@jupyter-widgets/controls",
     "model_module_version": "1.5.0",
     "model_name": "HTMLModel",
     "state": {
      "_dom_classes": [],
      "_model_module": "@jupyter-widgets/controls",
      "_model_module_version": "1.5.0",
      "_model_name": "HTMLModel",
      "_view_count": null,
      "_view_module": "@jupyter-widgets/controls",
      "_view_module_version": "1.5.0",
      "_view_name": "HTMLView",
      "description": "",
      "description_tooltip": null,
      "layout": "IPY_MODEL_2257a27d0abe47aba706a1faf79bfc21",
      "placeholder": "​",
      "style": "IPY_MODEL_1c149025f3ba4fd8a8bb4d25665e0fca",
      "value": "Batches: 100%"
     }
    },
    "cd76642f34ba4a5a8929e5d4f9eaf4f9": {
     "model_module": "@jupyter-widgets/base",
     "model_module_version": "1.2.0",
     "model_name": "LayoutModel",
     "state": {
      "_model_module": "@jupyter-widgets/base",
      "_model_module_version": "1.2.0",
      "_model_name": "LayoutModel",
      "_view_count": null,
      "_view_module": "@jupyter-widgets/base",
      "_view_module_version": "1.2.0",
      "_view_name": "LayoutView",
      "align_content": null,
      "align_items": null,
      "align_self": null,
      "border": null,
      "bottom": null,
      "display": null,
      "flex": null,
      "flex_flow": null,
      "grid_area": null,
      "grid_auto_columns": null,
      "grid_auto_flow": null,
      "grid_auto_rows": null,
      "grid_column": null,
      "grid_gap": null,
      "grid_row": null,
      "grid_template_areas": null,
      "grid_template_columns": null,
      "grid_template_rows": null,
      "height": null,
      "justify_content": null,
      "justify_items": null,
      "left": null,
      "margin": null,
      "max_height": null,
      "max_width": null,
      "min_height": null,
      "min_width": null,
      "object_fit": null,
      "object_position": null,
      "order": null,
      "overflow": null,
      "overflow_x": null,
      "overflow_y": null,
      "padding": null,
      "right": null,
      "top": null,
      "visibility": null,
      "width": null
     }
    },
    "d4b6e0298eec4e15a49fafb64fbf1071": {
     "model_module": "@jupyter-widgets/base",
     "model_module_version": "1.2.0",
     "model_name": "LayoutModel",
     "state": {
      "_model_module": "@jupyter-widgets/base",
      "_model_module_version": "1.2.0",
      "_model_name": "LayoutModel",
      "_view_count": null,
      "_view_module": "@jupyter-widgets/base",
      "_view_module_version": "1.2.0",
      "_view_name": "LayoutView",
      "align_content": null,
      "align_items": null,
      "align_self": null,
      "border": null,
      "bottom": null,
      "display": null,
      "flex": null,
      "flex_flow": null,
      "grid_area": null,
      "grid_auto_columns": null,
      "grid_auto_flow": null,
      "grid_auto_rows": null,
      "grid_column": null,
      "grid_gap": null,
      "grid_row": null,
      "grid_template_areas": null,
      "grid_template_columns": null,
      "grid_template_rows": null,
      "height": null,
      "justify_content": null,
      "justify_items": null,
      "left": null,
      "margin": null,
      "max_height": null,
      "max_width": null,
      "min_height": null,
      "min_width": null,
      "object_fit": null,
      "object_position": null,
      "order": null,
      "overflow": null,
      "overflow_x": null,
      "overflow_y": null,
      "padding": null,
      "right": null,
      "top": null,
      "visibility": null,
      "width": null
     }
    },
    "dc1a19efb5d7474a8a9469e8f6bdb6d1": {
     "model_module": "@jupyter-widgets/base",
     "model_module_version": "1.2.0",
     "model_name": "LayoutModel",
     "state": {
      "_model_module": "@jupyter-widgets/base",
      "_model_module_version": "1.2.0",
      "_model_name": "LayoutModel",
      "_view_count": null,
      "_view_module": "@jupyter-widgets/base",
      "_view_module_version": "1.2.0",
      "_view_name": "LayoutView",
      "align_content": null,
      "align_items": null,
      "align_self": null,
      "border": null,
      "bottom": null,
      "display": null,
      "flex": null,
      "flex_flow": null,
      "grid_area": null,
      "grid_auto_columns": null,
      "grid_auto_flow": null,
      "grid_auto_rows": null,
      "grid_column": null,
      "grid_gap": null,
      "grid_row": null,
      "grid_template_areas": null,
      "grid_template_columns": null,
      "grid_template_rows": null,
      "height": null,
      "justify_content": null,
      "justify_items": null,
      "left": null,
      "margin": null,
      "max_height": null,
      "max_width": null,
      "min_height": null,
      "min_width": null,
      "object_fit": null,
      "object_position": null,
      "order": null,
      "overflow": null,
      "overflow_x": null,
      "overflow_y": null,
      "padding": null,
      "right": null,
      "top": null,
      "visibility": null,
      "width": null
     }
    },
    "e1712349fe494f1c8d7b4d8eedf9fb0e": {
     "model_module": "@jupyter-widgets/controls",
     "model_module_version": "1.5.0",
     "model_name": "DescriptionStyleModel",
     "state": {
      "_model_module": "@jupyter-widgets/controls",
      "_model_module_version": "1.5.0",
      "_model_name": "DescriptionStyleModel",
      "_view_count": null,
      "_view_module": "@jupyter-widgets/base",
      "_view_module_version": "1.2.0",
      "_view_name": "StyleView",
      "description_width": ""
     }
    },
    "e9934397f1374ce3ad202cdc172b56bc": {
     "model_module": "@jupyter-widgets/controls",
     "model_module_version": "1.5.0",
     "model_name": "HTMLModel",
     "state": {
      "_dom_classes": [],
      "_model_module": "@jupyter-widgets/controls",
      "_model_module_version": "1.5.0",
      "_model_name": "HTMLModel",
      "_view_count": null,
      "_view_module": "@jupyter-widgets/controls",
      "_view_module_version": "1.5.0",
      "_view_name": "HTMLView",
      "description": "",
      "description_tooltip": null,
      "layout": "IPY_MODEL_bc0caadf96e443ba9feffbc5041b8375",
      "placeholder": "​",
      "style": "IPY_MODEL_708baa8e8f29420cad3e9c6b3419386b",
      "value": "Batches: 100%"
     }
    },
    "ee3ddca4e6c34922ae3340a7f3d52d4d": {
     "model_module": "@jupyter-widgets/controls",
     "model_module_version": "1.5.0",
     "model_name": "HTMLModel",
     "state": {
      "_dom_classes": [],
      "_model_module": "@jupyter-widgets/controls",
      "_model_module_version": "1.5.0",
      "_model_name": "HTMLModel",
      "_view_count": null,
      "_view_module": "@jupyter-widgets/controls",
      "_view_module_version": "1.5.0",
      "_view_name": "HTMLView",
      "description": "",
      "description_tooltip": null,
      "layout": "IPY_MODEL_2fb253d326ed4ff88950dbfdeace7feb",
      "placeholder": "​",
      "style": "IPY_MODEL_f72da6614ff34c98b842469ddb52cbff",
      "value": "Batches: 100%"
     }
    },
    "efcf28c4d5f24f098b90a232963f0854": {
     "model_module": "@jupyter-widgets/controls",
     "model_module_version": "1.5.0",
     "model_name": "DescriptionStyleModel",
     "state": {
      "_model_module": "@jupyter-widgets/controls",
      "_model_module_version": "1.5.0",
      "_model_name": "DescriptionStyleModel",
      "_view_count": null,
      "_view_module": "@jupyter-widgets/base",
      "_view_module_version": "1.2.0",
      "_view_name": "StyleView",
      "description_width": ""
     }
    },
    "f72da6614ff34c98b842469ddb52cbff": {
     "model_module": "@jupyter-widgets/controls",
     "model_module_version": "1.5.0",
     "model_name": "DescriptionStyleModel",
     "state": {
      "_model_module": "@jupyter-widgets/controls",
      "_model_module_version": "1.5.0",
      "_model_name": "DescriptionStyleModel",
      "_view_count": null,
      "_view_module": "@jupyter-widgets/base",
      "_view_module_version": "1.2.0",
      "_view_name": "StyleView",
      "description_width": ""
     }
    },
    "f961c32239bb49ea8cc25fed959f6bab": {
     "model_module": "@jupyter-widgets/controls",
     "model_module_version": "1.5.0",
     "model_name": "DescriptionStyleModel",
     "state": {
      "_model_module": "@jupyter-widgets/controls",
      "_model_module_version": "1.5.0",
      "_model_name": "DescriptionStyleModel",
      "_view_count": null,
      "_view_module": "@jupyter-widgets/base",
      "_view_module_version": "1.2.0",
      "_view_name": "StyleView",
      "description_width": ""
     }
    }
   }
  }
 },
 "nbformat": 4,
 "nbformat_minor": 0
}
